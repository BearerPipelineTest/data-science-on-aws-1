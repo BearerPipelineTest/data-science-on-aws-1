{
 "cells": [
  {
   "cell_type": "code",
   "execution_count": 7,
   "metadata": {},
   "outputs": [
    {
     "name": "stdout",
     "output_type": "stream",
     "text": [
      "Current iam_role is arn:aws:iam::079002598131:role/svfw-z-us-east-1-sagemaker-execution-role\n",
      "iam_role has been set to arn:aws:iam::079002598131:role/svfw-z-us-east-1-sagemaker-execution-role.\n",
      "Previous region: None\n",
      "Setting new region to: us-east-1\n",
      "Region is set to: us-east-1\n",
      "Setting session ID prefix to 112233445566\n"
     ]
    }
   ],
   "source": [
    "%iam_role 'arn:aws:iam::079002598131:role/svfw-z-us-east-1-sagemaker-execution-role'\n",
    "%region 'us-east-1'\n",
    "%session_id_prefix '112233445566'\n"
   ]
  },
  {
   "cell_type": "code",
   "execution_count": null,
   "metadata": {},
   "outputs": [
    {
     "name": "stdout",
     "output_type": "stream",
     "text": [
      "Authenticating with environment variables and user-defined glue_role_arn: arn:aws:iam::079002598131:role/svfw-z-us-east-1-sagemaker-execution-role\n",
      "Attempting to use existing AssumeRole session credentials.\n",
      "Trying to create a Glue session for the kernel.\n",
      "Worker Type: G.1X\n",
      "Number of Workers: 5\n",
      "Session ID: 112233445566-87dd53f9-66b4-4cd7-83e0-340b59815491\n",
      "Applying the following default arguments:\n",
      "--glue_kernel_version 0.24\n",
      "--enable-glue-datacatalog true\n",
      "Waiting for session 112233445566-87dd53f9-66b4-4cd7-83e0-340b59815491 to get into ready status...\n",
      "Session 112233445566-87dd53f9-66b4-4cd7-83e0-340b59815491 has been created\n",
      "\n",
      "<pyspark.sql.session.SparkSession object at 0x7f6c3e06f3d0>\n"
     ]
    }
   ],
   "source": [
    "spark"
   ]
  },
  {
   "cell_type": "code",
   "execution_count": 1,
   "metadata": {},
   "outputs": [
    {
     "name": "stdout",
     "output_type": "stream",
     "text": [
      "\n"
     ]
    }
   ],
   "source": [
    "df_from_csv = spark.read.option('delimiter', '\\t') \\\n",
    "                        .option('header', True) \\\n",
    "                        .csv('s3://dsoaws/amazon_reviews_us_Digital_Software_v1_00.tsv')"
   ]
  },
  {
   "cell_type": "code",
   "execution_count": 2,
   "metadata": {},
   "outputs": [
    {
     "name": "stdout",
     "output_type": "stream",
     "text": [
      "+-----------+-----------+--------------+----------+--------------+--------------------+----------------+-----------+-------------+-----------+----+-----------------+--------------------+--------------------+-----------+\n",
      "|marketplace|customer_id|     review_id|product_id|product_parent|       product_title|product_category|star_rating|helpful_votes|total_votes|vine|verified_purchase|     review_headline|         review_body|review_date|\n",
      "+-----------+-----------+--------------+----------+--------------+--------------------+----------------+-----------+-------------+-----------+----+-----------------+--------------------+--------------------+-----------+\n",
      "|         US|   17747349|R2EI7QLPK4LF7U|B00U7LCE6A|     106182406|CCleaner Free [Do...|Digital_Software|          4|            0|          0|   N|                Y|          Four Stars|      So far so good| 2015-08-31|\n",
      "|         US|   10956619|R1W5OMFK1Q3I3O|B00HRJMOM4|     162269768|ResumeMaker Profe...|Digital_Software|          3|            0|          0|   N|                Y|         Three Stars|Needs a little mo...| 2015-08-31|\n",
      "|         US|   13132245| RPZWSYWRP92GI|B00P31G9PQ|     831433899|Amazon Drive Desk...|Digital_Software|          1|            1|          2|   N|                Y|            One Star|      Please cancel.| 2015-08-31|\n",
      "|         US|   35717248|R2WQWM04XHD9US|B00FGDEPDY|     991059534|Norton Internet S...|Digital_Software|          5|            0|          0|   N|                Y|  Works as Expected!|  Works as Expected!| 2015-08-31|\n",
      "|         US|   17710652|R1WSPK2RA2PDEF|B00FZ0FK0U|     574904556|SecureAnywhere In...|Digital_Software|          4|            1|          2|   N|                Y|Great antivirus. ...|I've had Webroot ...| 2015-08-31|\n",
      "|         US|   42392705|R11JVGRZRHTDAS|B004KPKSRQ|     306022575|Pc Matic Performa...|Digital_Software|          5|            4|          4|   N|                N|Great choice in s...|EXCELLENT softwar...| 2015-08-31|\n",
      "|         US|   52845868|R2B8468OKXXYE2|B00B1TFNTW|      54873662|Microsoft OneNote...|Digital_Software|          1|            1|          1|   N|                N|Munch, munch, mun...|The variations cr...| 2015-08-31|\n",
      "|         US|   15696503|R2HGGCCZSSNUCB|B00M9GTJLY|     103182180|Intuit Quicken Re...|Digital_Software|          1|            0|          0|   N|                Y|Horrible! Would n...|Horrible!  Would ...| 2015-08-31|\n",
      "|         US|    9723928| REEE4LHSVPRV9|B00H9A60O4|     608720080|Avast Free Antivi...|Digital_Software|          1|            0|          0|   N|                Y|            One Star|     Waste of time .| 2015-08-31|\n",
      "|         US|   23522877|R25OMUUILFFHI9|B008XAXAC4|      87969525|Apache OpenOffice...|Digital_Software|          5|            0|          0|   N|                Y|Very good suite o...|Work as easy as o...| 2015-08-31|\n",
      "|         US|   17022093|R2966PB8UBD5BM|B00MHZ6Z64|     249773946|     Norton Security|Digital_Software|          5|            0|          0|   N|                Y|          Five Stars|    Works perfectly!| 2015-08-31|\n",
      "|         US|   11635690|R1OU91L2G5H6H1|B00OPCQ70Q|     956532818|Corel Painter Ess...|Digital_Software|          1|            0|          2|   N|                Y|            One Star|Will not open on ...| 2015-08-31|\n",
      "|         US|   50349059|R3M6YQVMXWGTR6|B00MHZ71G2|       8655796|Norton Security w...|Digital_Software|          5|            0|          0|   N|                Y|Purchased this on...|Purchased this on...| 2015-08-31|\n",
      "|         US|     450121|R2M8VZGO4BFN9J|B00O8J0W6G|       7338419|Movavi Screen Cap...|Digital_Software|          1|            0|          1|   N|                Y|            One Star|God awful and did...| 2015-08-31|\n",
      "|         US|    2320642|R3UH0MJKIJ4VLP|B00NMPZCH6|     985055699|Photoshop Element...|Digital_Software|          3|            2|          3|   N|                Y|         Three Stars|I think its compl...| 2015-08-31|\n",
      "|         US|   16089737|R3E906WYGZVKWO|B012P5SJNC|     490456974|LearnSmart for Th...|Digital_Software|          1|            2|          2|   N|                Y|Will not work for...|You can purchase ...| 2015-08-31|\n",
      "|         US|   14082044|R1Z3N8UA5YQOV2|B00V9ZPIXY|      57097904|Fotor for Windows...|Digital_Software|          2|            0|          0|   N|                Y|           Two Stars|    it wont download| 2015-08-31|\n",
      "|         US|   18246272|R2VH10XSOR1QHF|B00LU2XHAC|     962800663|Kaspersky Anti-Vi...|Digital_Software|          5|            0|          0|   N|                Y|          Five Stars|I have been using...| 2015-08-31|\n",
      "|         US|   31837971|R1KCPJ8UASZESF|B0068TJOSQ|     154476766|H&R Block At Home...|Digital_Software|          5|            0|          0|   N|                Y|This was a Great ...|This was a Great ...| 2015-08-31|\n",
      "|         US|   12631500| RWTF87EKV4DYO|B00SGYWM80|     780881648| onlineTV [Download]|Digital_Software|          3|            0|          0|   N|                Y|         Three Stars|did not use,inter...| 2015-08-31|\n",
      "+-----------+-----------+--------------+----------+--------------+--------------------+----------------+-----------+-------------+-----------+----+-----------------+--------------------+--------------------+-----------+\n",
      "only showing top 20 rows\n"
     ]
    }
   ],
   "source": [
    "df_from_csv.show()"
   ]
  },
  {
   "cell_type": "code",
   "execution_count": 7,
   "metadata": {},
   "outputs": [
    {
     "name": "stdout",
     "output_type": "stream",
     "text": [
      "AnalysisException: 'Table or view not found: dsoaws; line 1 pos 14'\n"
     ]
    }
   ],
   "source": [
    "df_from_glue_catalog_sql = spark.sql('select * from dsoaws limit 1')"
   ]
  },
  {
   "cell_type": "code",
   "execution_count": 8,
   "metadata": {},
   "outputs": [
    {
     "name": "stdout",
     "output_type": "stream",
     "text": [
      "AnalysisException: \"Table or view not found: `AwsDataCatalog`.`dsoaws`; line 1 pos 14;\\n'GlobalLimit 1\\n+- 'LocalLimit 1\\n   +- 'Project [*]\\n      +- 'UnresolvedRelation `AwsDataCatalog`.`dsoaws`\\n\"\n"
     ]
    }
   ],
   "source": [
    "df_from_glue_catalog_sql = spark.sql('select * from AwsDataCatalog.dsoaws limit 1')"
   ]
  },
  {
   "cell_type": "code",
   "execution_count": 10,
   "metadata": {},
   "outputs": [
    {
     "name": "stdout",
     "output_type": "stream",
     "text": [
      "ParseException: \"\\nmismatched input '<EOF>' expecting {'(', 'SELECT', 'FROM', 'ADD', 'DESC', 'WITH', 'VALUES', 'CREATE', 'TABLE', 'INSERT', 'DELETE', 'DESCRIBE', 'EXPLAIN', 'SHOW', 'USE', 'DROP', 'ALTER', 'MAP', 'SET', 'RESET', 'START', 'COMMIT', 'ROLLBACK', 'REDUCE', 'REFRESH', 'CLEAR', 'CACHE', 'UNCACHE', 'DFS', 'TRUNCATE', 'ANALYZE', 'LIST', 'REVOKE', 'GRANT', 'LOCK', 'UNLOCK', 'MSCK', 'EXPORT', 'IMPORT', 'LOAD'}(line 1, pos 0)\\n\\n== SQL ==\\n\\n^^^\\n\"\n"
     ]
    }
   ],
   "source": [
    "%%sql select * from dsoaws limit 1"
   ]
  },
  {
   "cell_type": "code",
   "execution_count": 11,
   "metadata": {},
   "outputs": [
    {
     "name": "stdout",
     "output_type": "stream",
     "text": [
      "ParseException: \"\\nmismatched input '<EOF>' expecting {'(', 'SELECT', 'FROM', 'ADD', 'DESC', 'WITH', 'VALUES', 'CREATE', 'TABLE', 'INSERT', 'DELETE', 'DESCRIBE', 'EXPLAIN', 'SHOW', 'USE', 'DROP', 'ALTER', 'MAP', 'SET', 'RESET', 'START', 'COMMIT', 'ROLLBACK', 'REDUCE', 'REFRESH', 'CLEAR', 'CACHE', 'UNCACHE', 'DFS', 'TRUNCATE', 'ANALYZE', 'LIST', 'REVOKE', 'GRANT', 'LOCK', 'UNLOCK', 'MSCK', 'EXPORT', 'IMPORT', 'LOAD'}(line 1, pos 0)\\n\\n== SQL ==\\n\\n^^^\\n\"\n"
     ]
    }
   ],
   "source": [
    "%%sql select * from AwsDataCatalog.dsoaws limit 1"
   ]
  },
  {
   "cell_type": "code",
   "execution_count": null,
   "metadata": {},
   "outputs": [],
   "source": []
  }
 ],
 "metadata": {
  "instance_type": "ml.t3.medium",
  "kernelspec": {
   "display_name": "Python 3 (Data Science)",
   "language": "python",
   "name": "python3__SAGEMAKER_INTERNAL__arn:aws:sagemaker:us-east-1:081325390199:image/datascience-1.0"
  },
  "language_info": {
   "codemirror_mode": {
    "name": "ipython",
    "version": 3
   },
   "file_extension": ".py",
   "mimetype": "text/x-python",
   "name": "python",
   "nbconvert_exporter": "python",
   "pygments_lexer": "ipython3",
   "version": "3.7.10"
  }
 },
 "nbformat": 4,
 "nbformat_minor": 4
}
