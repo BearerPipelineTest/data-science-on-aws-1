{
 "cells": [
  {
   "cell_type": "code",
   "execution_count": null,
   "id": "f4f2c79c-24b3-4fb7-b109-18311381966a",
   "metadata": {},
   "outputs": [
    {
     "name": "stderr",
     "output_type": "stream",
     "text": [
      "2022-05-23 13:03:33,035\tINFO worker.py:965 -- Connecting to existing Ray cluster at address: 172.30.0.99:6379\n"
     ]
    },
    {
     "name": "stdout",
     "output_type": "stream",
     "text": [
      "WARNING: sun.reflect.Reflection.getCallerClass is not supported. This will impact performance.\n"
     ]
    }
   ],
   "source": [
    "import ray\n",
    "import raydp\n",
    "\n",
    "ray.shutdown()\n",
    "ray.init(address=\"127.0.0.1:6379\")\n",
    "\n",
    "configs={\n",
    "    \"spark.driver.extraJavaOptions\": \"--add-opens=java.base/sun.nio.ch=ALL-UNNAMED --add-opens=java.base/java.lang=ALL-UNNAMED --add-opens=java.base/java.util=ALL-UNNAMED\",\n",
    "    \"spark.jars.packages\": \"org.apache.hadoop:hadoop-aws:3.2.0,com.amazonaws:aws-java-sdk-s3:1.12.210,com.amazonaws:aws-java-sdk:1.12.210\",\n",
    "    \"spark.hadoop.fs.s3a.impl\": \"org.apache.hadoop.fs.s3a.S3AFileSystem\",\n",
    "    \"spark.hadoop.fs.s3a.aws.credentials.provider\": \"org.apache.hadoop.fs.s3a.SimpleAWSCredentialsProvider\"\n",
    "}\n",
    "\n",
    "raydp.stop_spark()\n",
    "spark = raydp.init_spark(\n",
    "  app_name = \"example\",\n",
    "  num_executors = 1,\n",
    "  executor_cores = 1,\n",
    "  executor_memory = \"1GB\",\n",
    "  configs = configs\n",
    ")\n",
    "\n",
    "df_from_csv = spark.read.option('delimiter', ',') \\\n",
    "                        .option('header', True) \\\n",
    "                        .csv('s3a://dsoaws/ray/datasets/data/train/part-algo-1-womens_clothing_ecommerce_reviews.csv')\n",
    "#                        .csv('./data/train/part-algo-1-womens_clothing_ecommerce_reviews.csv')\n",
    "\n",
    "print(df_from_csv)\n",
    "\n",
    "df_from_csv.groupBy(\"sentiment\").count().show()\n"
   ]
  },
  {
   "cell_type": "code",
   "execution_count": 3,
   "id": "7c8fd589-48ca-45f9-9c90-38394aed5eec",
   "metadata": {},
   "outputs": [],
   "source": [
    "raydp.stop_spark()"
   ]
  },
  {
   "cell_type": "code",
   "execution_count": null,
   "id": "8a4613a3-2b7f-4118-b4dc-2e4c2cc52d9d",
   "metadata": {},
   "outputs": [],
   "source": []
  }
 ],
 "metadata": {
  "kernelspec": {
   "display_name": "Python 3 (ipykernel)",
   "language": "python",
   "name": "python3"
  },
  "language_info": {
   "codemirror_mode": {
    "name": "ipython",
    "version": 3
   },
   "file_extension": ".py",
   "mimetype": "text/x-python",
   "name": "python",
   "nbconvert_exporter": "python",
   "pygments_lexer": "ipython3",
   "version": "3.7.7"
  }
 },
 "nbformat": 4,
 "nbformat_minor": 5
}
