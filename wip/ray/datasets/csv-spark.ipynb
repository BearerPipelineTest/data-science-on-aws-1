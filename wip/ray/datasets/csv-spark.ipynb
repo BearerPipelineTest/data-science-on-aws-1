{
 "cells": [
  {
   "cell_type": "code",
   "execution_count": 2,
   "id": "58da6cc5-dcd6-4bde-8393-91f7e6c52601",
   "metadata": {
    "execution": {
     "iopub.execute_input": "2022-06-30T23:35:21.253312Z",
     "iopub.status.busy": "2022-06-30T23:35:21.253080Z",
     "iopub.status.idle": "2022-06-30T23:35:54.169096Z",
     "shell.execute_reply": "2022-06-30T23:35:54.168373Z",
     "shell.execute_reply.started": "2022-06-30T23:35:21.253286Z"
    },
    "tags": []
   },
   "outputs": [
    {
     "name": "stdout",
     "output_type": "stream",
     "text": [
      "Defaulting to user installation because normal site-packages is not writeable\n",
      "Collecting raydp\n",
      "  Downloading raydp-0.4.2-py3-none-any.whl (10.5 MB)\n",
      "\u001b[K     |████████████████████████████████| 10.5 MB 25.3 MB/s eta 0:00:01\n",
      "\u001b[?25hCollecting netifaces\n",
      "  Downloading netifaces-0.11.0-cp37-cp37m-manylinux_2_5_x86_64.manylinux1_x86_64.whl (32 kB)\n",
      "Requirement already satisfied: ray[default]>=1.8.0 in /mnt/notebook-env/lib/python3.7/site-packages (from raydp) (1.13.0)\n",
      "Requirement already satisfied: psutil in /mnt/notebook-env/lib/python3.7/site-packages (from raydp) (5.9.1)\n",
      "Collecting pyspark>=3.2.0\n",
      "  Downloading pyspark-3.3.0.tar.gz (281.3 MB)\n",
      "\u001b[K     |████████████████████████████████| 281.3 MB 59 kB/s s eta 0:00:01    |██████▎                         | 55.6 MB 96.9 MB/s eta 0:00:03\n",
      "\u001b[?25hRequirement already satisfied: numpy in /mnt/notebook-env/lib/python3.7/site-packages (from raydp) (1.21.2)\n",
      "Requirement already satisfied: pyarrow>=0.10 in /mnt/notebook-env/lib/python3.7/site-packages (from raydp) (6.0.1)\n",
      "Collecting typing\n",
      "  Downloading typing-3.7.4.3.tar.gz (78 kB)\n",
      "\u001b[K     |████████████████████████████████| 78 kB 17.0 MB/s eta 0:00:01\n",
      "\u001b[?25hCollecting aiohttp==3.7.4\n",
      "  Downloading aiohttp-3.7.4-cp37-cp37m-manylinux2014_x86_64.whl (1.3 MB)\n",
      "\u001b[K     |████████████████████████████████| 1.3 MB 94.3 MB/s eta 0:00:01\n",
      "\u001b[?25hRequirement already satisfied: pandas>=1.1.4 in /mnt/notebook-env/lib/python3.7/site-packages (from raydp) (1.3.5)\n",
      "Collecting async-timeout<4.0,>=3.0\n",
      "  Downloading async_timeout-3.0.1-py3-none-any.whl (8.2 kB)\n",
      "Requirement already satisfied: yarl<2.0,>=1.0 in /mnt/notebook-env/lib/python3.7/site-packages (from aiohttp==3.7.4->raydp) (1.6.3)\n",
      "Requirement already satisfied: multidict<7.0,>=4.5 in /mnt/notebook-env/lib/python3.7/site-packages (from aiohttp==3.7.4->raydp) (5.2.0)\n",
      "Collecting chardet<4.0,>=2.0\n",
      "  Downloading chardet-3.0.4-py2.py3-none-any.whl (133 kB)\n",
      "\u001b[K     |████████████████████████████████| 133 kB 101.0 MB/s eta 0:00:01\n",
      "\u001b[?25hRequirement already satisfied: attrs>=17.3.0 in /mnt/notebook-env/lib/python3.7/site-packages (from aiohttp==3.7.4->raydp) (21.4.0)\n",
      "Requirement already satisfied: typing-extensions>=3.6.5 in /mnt/notebook-env/lib/python3.7/site-packages (from aiohttp==3.7.4->raydp) (4.1.1)\n",
      "Requirement already satisfied: python-dateutil>=2.7.3 in /mnt/notebook-env/lib/python3.7/site-packages (from pandas>=1.1.4->raydp) (2.8.2)\n",
      "Requirement already satisfied: pytz>=2017.3 in /mnt/notebook-env/lib/python3.7/site-packages (from pandas>=1.1.4->raydp) (2021.3)\n",
      "Collecting py4j==0.10.9.5\n",
      "  Downloading py4j-0.10.9.5-py2.py3-none-any.whl (199 kB)\n",
      "\u001b[K     |████████████████████████████████| 199 kB 70.0 MB/s eta 0:00:01\n",
      "\u001b[?25hRequirement already satisfied: six>=1.5 in /mnt/notebook-env/lib/python3.7/site-packages (from python-dateutil>=2.7.3->pandas>=1.1.4->raydp) (1.16.0)\n",
      "Requirement already satisfied: filelock in /mnt/notebook-env/lib/python3.7/site-packages (from ray[default]>=1.8.0->raydp) (3.7.1)\n",
      "Requirement already satisfied: jsonschema in /mnt/notebook-env/lib/python3.7/site-packages (from ray[default]>=1.8.0->raydp) (3.2.0)\n",
      "Requirement already satisfied: pyyaml in /mnt/notebook-env/lib/python3.7/site-packages (from ray[default]>=1.8.0->raydp) (6.0)\n",
      "Requirement already satisfied: frozenlist in /mnt/notebook-env/lib/python3.7/site-packages (from ray[default]>=1.8.0->raydp) (1.2.0)\n",
      "Requirement already satisfied: requests in /mnt/notebook-env/lib/python3.7/site-packages (from ray[default]>=1.8.0->raydp) (2.27.1)\n",
      "Requirement already satisfied: click<=8.0.4,>=7.0 in /mnt/notebook-env/lib/python3.7/site-packages (from ray[default]>=1.8.0->raydp) (8.0.4)\n",
      "Requirement already satisfied: grpcio<=1.43.0,>=1.28.1 in /mnt/notebook-env/lib/python3.7/site-packages (from ray[default]>=1.8.0->raydp) (1.43.0)\n",
      "Requirement already satisfied: virtualenv in /mnt/notebook-env/lib/python3.7/site-packages (from ray[default]>=1.8.0->raydp) (20.15.1)\n",
      "Requirement already satisfied: msgpack<2.0.0,>=1.0.0 in /mnt/notebook-env/lib/python3.7/site-packages (from ray[default]>=1.8.0->raydp) (1.0.4)\n",
      "Requirement already satisfied: protobuf<4.0.0,>=3.15.3 in /home/emr-notebook/.local/lib/python3.7/site-packages (from ray[default]>=1.8.0->raydp) (3.19.4)\n",
      "Requirement already satisfied: aiosignal in /mnt/notebook-env/lib/python3.7/site-packages (from ray[default]>=1.8.0->raydp) (1.2.0)\n",
      "Requirement already satisfied: colorful in /mnt/notebook-env/lib/python3.7/site-packages (from ray[default]>=1.8.0->raydp) (0.5.4)\n",
      "Requirement already satisfied: prometheus-client<0.14.0,>=0.7.1 in /mnt/notebook-env/lib/python3.7/site-packages (from ray[default]>=1.8.0->raydp) (0.13.1)\n",
      "Requirement already satisfied: smart-open in /mnt/notebook-env/lib/python3.7/site-packages (from ray[default]>=1.8.0->raydp) (6.0.0)\n",
      "Requirement already satisfied: gpustat>=1.0.0b1 in /mnt/notebook-env/lib/python3.7/site-packages (from ray[default]>=1.8.0->raydp) (1.0.0b1)\n",
      "Requirement already satisfied: opencensus in /mnt/notebook-env/lib/python3.7/site-packages (from ray[default]>=1.8.0->raydp) (0.9.0)\n",
      "Requirement already satisfied: py-spy>=0.2.0 in /mnt/notebook-env/lib/python3.7/site-packages (from ray[default]>=1.8.0->raydp) (0.3.12)\n",
      "Requirement already satisfied: aiohttp-cors in /mnt/notebook-env/lib/python3.7/site-packages (from ray[default]>=1.8.0->raydp) (0.7.0)\n",
      "Requirement already satisfied: importlib-metadata in /mnt/notebook-env/lib/python3.7/site-packages (from click<=8.0.4,>=7.0->ray[default]>=1.8.0->raydp) (4.8.2)\n",
      "Requirement already satisfied: nvidia-ml-py3>=7.352.0 in /mnt/notebook-env/lib/python3.7/site-packages (from gpustat>=1.0.0b1->ray[default]>=1.8.0->raydp) (7.352.0)\n",
      "Requirement already satisfied: blessed>=1.17.1 in /mnt/notebook-env/lib/python3.7/site-packages (from gpustat>=1.0.0b1->ray[default]>=1.8.0->raydp) (1.19.1)\n",
      "Requirement already satisfied: wcwidth>=0.1.4 in /mnt/notebook-env/lib/python3.7/site-packages (from blessed>=1.17.1->gpustat>=1.0.0b1->ray[default]>=1.8.0->raydp) (0.2.5)\n",
      "Requirement already satisfied: idna>=2.0 in /mnt/notebook-env/lib/python3.7/site-packages (from yarl<2.0,>=1.0->aiohttp==3.7.4->raydp) (3.3)\n",
      "Requirement already satisfied: zipp>=0.5 in /mnt/notebook-env/lib/python3.7/site-packages (from importlib-metadata->click<=8.0.4,>=7.0->ray[default]>=1.8.0->raydp) (3.7.0)\n",
      "Requirement already satisfied: pyrsistent>=0.14.0 in /mnt/notebook-env/lib/python3.7/site-packages (from jsonschema->ray[default]>=1.8.0->raydp) (0.18.0)\n",
      "Requirement already satisfied: setuptools in /mnt/notebook-env/lib/python3.7/site-packages (from jsonschema->ray[default]>=1.8.0->raydp) (58.0.4)\n",
      "Requirement already satisfied: opencensus-context>=0.1.2 in /mnt/notebook-env/lib/python3.7/site-packages (from opencensus->ray[default]>=1.8.0->raydp) (0.1.2)\n",
      "Requirement already satisfied: google-api-core<3.0.0,>=1.0.0 in /mnt/notebook-env/lib/python3.7/site-packages (from opencensus->ray[default]>=1.8.0->raydp) (2.8.2)\n",
      "Requirement already satisfied: google-auth<3.0dev,>=1.25.0 in /mnt/notebook-env/lib/python3.7/site-packages (from google-api-core<3.0.0,>=1.0.0->opencensus->ray[default]>=1.8.0->raydp) (2.6.0)\n",
      "Requirement already satisfied: googleapis-common-protos<2.0dev,>=1.56.2 in /mnt/notebook-env/lib/python3.7/site-packages (from google-api-core<3.0.0,>=1.0.0->opencensus->ray[default]>=1.8.0->raydp) (1.56.3)\n",
      "Requirement already satisfied: cachetools<6.0,>=2.0.0 in /mnt/notebook-env/lib/python3.7/site-packages (from google-auth<3.0dev,>=1.25.0->google-api-core<3.0.0,>=1.0.0->opencensus->ray[default]>=1.8.0->raydp) (4.2.2)\n",
      "Requirement already satisfied: pyasn1-modules>=0.2.1 in /mnt/notebook-env/lib/python3.7/site-packages (from google-auth<3.0dev,>=1.25.0->google-api-core<3.0.0,>=1.0.0->opencensus->ray[default]>=1.8.0->raydp) (0.2.8)\n",
      "Requirement already satisfied: rsa<5,>=3.1.4 in /mnt/notebook-env/lib/python3.7/site-packages (from google-auth<3.0dev,>=1.25.0->google-api-core<3.0.0,>=1.0.0->opencensus->ray[default]>=1.8.0->raydp) (4.7.2)\n",
      "Requirement already satisfied: pyasn1<0.5.0,>=0.4.6 in /mnt/notebook-env/lib/python3.7/site-packages (from pyasn1-modules>=0.2.1->google-auth<3.0dev,>=1.25.0->google-api-core<3.0.0,>=1.0.0->opencensus->ray[default]>=1.8.0->raydp) (0.4.8)\n",
      "Requirement already satisfied: urllib3<1.27,>=1.21.1 in /mnt/notebook-env/lib/python3.7/site-packages (from requests->ray[default]>=1.8.0->raydp) (1.25.11)\n",
      "Requirement already satisfied: charset-normalizer~=2.0.0 in /mnt/notebook-env/lib/python3.7/site-packages (from requests->ray[default]>=1.8.0->raydp) (2.0.4)\n",
      "Requirement already satisfied: certifi>=2017.4.17 in /mnt/notebook-env/lib/python3.7/site-packages (from requests->ray[default]>=1.8.0->raydp) (2022.6.15)\n",
      "Requirement already satisfied: platformdirs<3,>=2 in /mnt/notebook-env/lib/python3.7/site-packages (from virtualenv->ray[default]>=1.8.0->raydp) (2.5.2)\n",
      "Requirement already satisfied: distlib<1,>=0.3.1 in /mnt/notebook-env/lib/python3.7/site-packages (from virtualenv->ray[default]>=1.8.0->raydp) (0.3.4)\n",
      "Building wheels for collected packages: pyspark, typing\n",
      "  Building wheel for pyspark (setup.py) ... \u001b[?25ldone\n",
      "\u001b[?25h  Created wheel for pyspark: filename=pyspark-3.3.0-py2.py3-none-any.whl size=281764026 sha256=d8cdad34b2f5f4e987ff1ed4131d1ef1caa1e11eea067fef9cf99e60c3a7a427\n",
      "  Stored in directory: /home/emr-notebook/.cache/pip/wheels/7a/8e/1b/f73a52650d2e5f337708d9f6a1750d451a7349a867f928b885\n",
      "  Building wheel for typing (setup.py) ... \u001b[?25ldone\n",
      "\u001b[?25h  Created wheel for typing: filename=typing-3.7.4.3-py3-none-any.whl size=26325 sha256=6b68985ec24d278f21b2d7a59d6de0f28ea959aa8eb969b5d9d979dc6071a1f7\n",
      "  Stored in directory: /home/emr-notebook/.cache/pip/wheels/35/f3/15/01aa6571f0a72ee6ae7b827c1491c37a1f72d686fd22b43b0e\n",
      "Successfully built pyspark typing\n",
      "Installing collected packages: chardet, async-timeout, aiohttp, py4j, typing, pyspark, netifaces, raydp\n",
      "\u001b[33m  WARNING: The script chardetect is installed in '/home/emr-notebook/.local/bin' which is not on PATH.\n",
      "  Consider adding this directory to PATH or, if you prefer to suppress this warning, use --no-warn-script-location.\u001b[0m\n",
      "Successfully installed aiohttp-3.7.4 async-timeout-3.0.1 chardet-3.0.4 netifaces-0.11.0 py4j-0.10.9.5 pyspark-3.3.0 raydp-0.4.2 typing-3.7.4.3\n",
      "Note: you may need to restart the kernel to use updated packages.\n"
     ]
    }
   ],
   "source": [
    "%pip install raydp"
   ]
  },
  {
   "cell_type": "code",
   "execution_count": 5,
   "id": "f4f2c79c-24b3-4fb7-b109-18311381966a",
   "metadata": {
    "execution": {
     "iopub.execute_input": "2022-06-30T23:47:52.786485Z",
     "iopub.status.busy": "2022-06-30T23:47:52.786228Z",
     "iopub.status.idle": "2022-06-30T23:47:53.225940Z",
     "shell.execute_reply": "2022-06-30T23:47:53.224999Z",
     "shell.execute_reply.started": "2022-06-30T23:47:52.786449Z"
    },
    "tags": []
   },
   "outputs": [
    {
     "name": "stderr",
     "output_type": "stream",
     "text": [
      "2022-06-30 23:47:52,997\tERROR packaging.py:85 -- Issue with path: /dev/sdb1\n"
     ]
    },
    {
     "ename": "PermissionError",
     "evalue": "[Errno 13] Permission denied: '/dev/sdb1'",
     "output_type": "error",
     "traceback": [
      "\u001b[0;31m---------------------------------------------------------------------------\u001b[0m",
      "\u001b[0;31mPermissionError\u001b[0m                           Traceback (most recent call last)",
      "\u001b[0;32m<ipython-input-5-114e60945459>\u001b[0m in \u001b[0;36m<module>\u001b[0;34m\u001b[0m\n\u001b[1;32m      5\u001b[0m ray.init(address=\"ray://localhost:10001\",\n\u001b[1;32m      6\u001b[0m          runtime_env={\"pip\": [\"raydp\"],\n\u001b[0;32m----> 7\u001b[0;31m                       \"working_dir\": \"./\"})\n\u001b[0m\u001b[1;32m      8\u001b[0m \u001b[0;34m\u001b[0m\u001b[0m\n\u001b[1;32m      9\u001b[0m configs={\n",
      "\u001b[0;32m/emr/notebook-env/lib/python3.7/site-packages/ray/_private/client_mode_hook.py\u001b[0m in \u001b[0;36mwrapper\u001b[0;34m(*args, **kwargs)\u001b[0m\n\u001b[1;32m    103\u001b[0m             \u001b[0;32mif\u001b[0m \u001b[0mfunc\u001b[0m\u001b[0;34m.\u001b[0m\u001b[0m__name__\u001b[0m \u001b[0;34m!=\u001b[0m \u001b[0;34m\"init\"\u001b[0m \u001b[0;32mor\u001b[0m \u001b[0mis_client_mode_enabled_by_default\u001b[0m\u001b[0;34m:\u001b[0m\u001b[0;34m\u001b[0m\u001b[0;34m\u001b[0m\u001b[0m\n\u001b[1;32m    104\u001b[0m                 \u001b[0;32mreturn\u001b[0m \u001b[0mgetattr\u001b[0m\u001b[0;34m(\u001b[0m\u001b[0mray\u001b[0m\u001b[0;34m,\u001b[0m \u001b[0mfunc\u001b[0m\u001b[0;34m.\u001b[0m\u001b[0m__name__\u001b[0m\u001b[0;34m)\u001b[0m\u001b[0;34m(\u001b[0m\u001b[0;34m*\u001b[0m\u001b[0margs\u001b[0m\u001b[0;34m,\u001b[0m \u001b[0;34m**\u001b[0m\u001b[0mkwargs\u001b[0m\u001b[0;34m)\u001b[0m\u001b[0;34m\u001b[0m\u001b[0;34m\u001b[0m\u001b[0m\n\u001b[0;32m--> 105\u001b[0;31m         \u001b[0;32mreturn\u001b[0m \u001b[0mfunc\u001b[0m\u001b[0;34m(\u001b[0m\u001b[0;34m*\u001b[0m\u001b[0margs\u001b[0m\u001b[0;34m,\u001b[0m \u001b[0;34m**\u001b[0m\u001b[0mkwargs\u001b[0m\u001b[0;34m)\u001b[0m\u001b[0;34m\u001b[0m\u001b[0;34m\u001b[0m\u001b[0m\n\u001b[0m\u001b[1;32m    106\u001b[0m \u001b[0;34m\u001b[0m\u001b[0m\n\u001b[1;32m    107\u001b[0m     \u001b[0;32mreturn\u001b[0m \u001b[0mwrapper\u001b[0m\u001b[0;34m\u001b[0m\u001b[0;34m\u001b[0m\u001b[0m\n",
      "\u001b[0;32m/emr/notebook-env/lib/python3.7/site-packages/ray/worker.py\u001b[0m in \u001b[0;36minit\u001b[0;34m(address, num_cpus, num_gpus, resources, object_store_memory, local_mode, ignore_reinit_error, include_dashboard, dashboard_host, dashboard_port, job_config, configure_logging, logging_level, logging_format, log_to_driver, namespace, runtime_env, storage, _enable_object_reconstruction, _redis_max_memory, _plasma_directory, _node_ip_address, _driver_object_store_memory, _memory, _redis_password, _temp_dir, _metrics_export_port, _system_config, _tracing_startup_hook, _node_name, **kwargs)\u001b[0m\n\u001b[1;32m    885\u001b[0m         \u001b[0mpassed_kwargs\u001b[0m\u001b[0;34m.\u001b[0m\u001b[0mupdate\u001b[0m\u001b[0;34m(\u001b[0m\u001b[0mkwargs\u001b[0m\u001b[0;34m)\u001b[0m\u001b[0;34m\u001b[0m\u001b[0;34m\u001b[0m\u001b[0m\n\u001b[1;32m    886\u001b[0m         \u001b[0mbuilder\u001b[0m\u001b[0;34m.\u001b[0m\u001b[0m_init_args\u001b[0m\u001b[0;34m(\u001b[0m\u001b[0;34m**\u001b[0m\u001b[0mpassed_kwargs\u001b[0m\u001b[0;34m)\u001b[0m\u001b[0;34m\u001b[0m\u001b[0;34m\u001b[0m\u001b[0m\n\u001b[0;32m--> 887\u001b[0;31m         \u001b[0;32mreturn\u001b[0m \u001b[0mbuilder\u001b[0m\u001b[0;34m.\u001b[0m\u001b[0mconnect\u001b[0m\u001b[0;34m(\u001b[0m\u001b[0;34m)\u001b[0m\u001b[0;34m\u001b[0m\u001b[0;34m\u001b[0m\u001b[0m\n\u001b[0m\u001b[1;32m    888\u001b[0m \u001b[0;34m\u001b[0m\u001b[0m\n\u001b[1;32m    889\u001b[0m     \u001b[0;32mif\u001b[0m \u001b[0mkwargs\u001b[0m\u001b[0;34m:\u001b[0m\u001b[0;34m\u001b[0m\u001b[0;34m\u001b[0m\u001b[0m\n",
      "\u001b[0;32m/emr/notebook-env/lib/python3.7/site-packages/ray/client_builder.py\u001b[0m in \u001b[0;36mconnect\u001b[0;34m(self)\u001b[0m\n\u001b[1;32m    162\u001b[0m             \u001b[0mjob_config\u001b[0m\u001b[0;34m=\u001b[0m\u001b[0mself\u001b[0m\u001b[0;34m.\u001b[0m\u001b[0m_job_config\u001b[0m\u001b[0;34m,\u001b[0m\u001b[0;34m\u001b[0m\u001b[0;34m\u001b[0m\u001b[0m\n\u001b[1;32m    163\u001b[0m             \u001b[0m_credentials\u001b[0m\u001b[0;34m=\u001b[0m\u001b[0mself\u001b[0m\u001b[0;34m.\u001b[0m\u001b[0m_credentials\u001b[0m\u001b[0;34m,\u001b[0m\u001b[0;34m\u001b[0m\u001b[0;34m\u001b[0m\u001b[0m\n\u001b[0;32m--> 164\u001b[0;31m             \u001b[0mray_init_kwargs\u001b[0m\u001b[0;34m=\u001b[0m\u001b[0mself\u001b[0m\u001b[0;34m.\u001b[0m\u001b[0m_remote_init_kwargs\u001b[0m\u001b[0;34m,\u001b[0m\u001b[0;34m\u001b[0m\u001b[0;34m\u001b[0m\u001b[0m\n\u001b[0m\u001b[1;32m    165\u001b[0m         )\n\u001b[1;32m    166\u001b[0m         \u001b[0mget_dashboard_url\u001b[0m \u001b[0;34m=\u001b[0m \u001b[0mray\u001b[0m\u001b[0;34m.\u001b[0m\u001b[0mremote\u001b[0m\u001b[0;34m(\u001b[0m\u001b[0mray\u001b[0m\u001b[0;34m.\u001b[0m\u001b[0mworker\u001b[0m\u001b[0;34m.\u001b[0m\u001b[0mget_dashboard_url\u001b[0m\u001b[0;34m)\u001b[0m\u001b[0;34m\u001b[0m\u001b[0;34m\u001b[0m\u001b[0m\n",
      "\u001b[0;32m/emr/notebook-env/lib/python3.7/site-packages/ray/util/client_connect.py\u001b[0m in \u001b[0;36mconnect\u001b[0;34m(conn_str, secure, metadata, connection_retries, job_config, namespace, ignore_version, _credentials, ray_init_kwargs)\u001b[0m\n\u001b[1;32m     43\u001b[0m         \u001b[0mignore_version\u001b[0m\u001b[0;34m=\u001b[0m\u001b[0mignore_version\u001b[0m\u001b[0;34m,\u001b[0m\u001b[0;34m\u001b[0m\u001b[0;34m\u001b[0m\u001b[0m\n\u001b[1;32m     44\u001b[0m         \u001b[0m_credentials\u001b[0m\u001b[0;34m=\u001b[0m\u001b[0m_credentials\u001b[0m\u001b[0;34m,\u001b[0m\u001b[0;34m\u001b[0m\u001b[0;34m\u001b[0m\u001b[0m\n\u001b[0;32m---> 45\u001b[0;31m         \u001b[0mray_init_kwargs\u001b[0m\u001b[0;34m=\u001b[0m\u001b[0mray_init_kwargs\u001b[0m\u001b[0;34m,\u001b[0m\u001b[0;34m\u001b[0m\u001b[0;34m\u001b[0m\u001b[0m\n\u001b[0m\u001b[1;32m     46\u001b[0m     )\n\u001b[1;32m     47\u001b[0m     \u001b[0;32mreturn\u001b[0m \u001b[0mconn\u001b[0m\u001b[0;34m\u001b[0m\u001b[0;34m\u001b[0m\u001b[0m\n",
      "\u001b[0;32m/emr/notebook-env/lib/python3.7/site-packages/ray/util/client/__init__.py\u001b[0m in \u001b[0;36mconnect\u001b[0;34m(self, *args, **kw_args)\u001b[0m\n\u001b[1;32m    241\u001b[0m     \u001b[0;32mdef\u001b[0m \u001b[0mconnect\u001b[0m\u001b[0;34m(\u001b[0m\u001b[0mself\u001b[0m\u001b[0;34m,\u001b[0m \u001b[0;34m*\u001b[0m\u001b[0margs\u001b[0m\u001b[0;34m,\u001b[0m \u001b[0;34m**\u001b[0m\u001b[0mkw_args\u001b[0m\u001b[0;34m)\u001b[0m\u001b[0;34m:\u001b[0m\u001b[0;34m\u001b[0m\u001b[0;34m\u001b[0m\u001b[0m\n\u001b[1;32m    242\u001b[0m         \u001b[0mself\u001b[0m\u001b[0;34m.\u001b[0m\u001b[0mget_context\u001b[0m\u001b[0;34m(\u001b[0m\u001b[0;34m)\u001b[0m\u001b[0;34m.\u001b[0m\u001b[0m_inside_client_test\u001b[0m \u001b[0;34m=\u001b[0m \u001b[0mself\u001b[0m\u001b[0;34m.\u001b[0m\u001b[0m_inside_client_test\u001b[0m\u001b[0;34m\u001b[0m\u001b[0;34m\u001b[0m\u001b[0m\n\u001b[0;32m--> 243\u001b[0;31m         \u001b[0mconn\u001b[0m \u001b[0;34m=\u001b[0m \u001b[0mself\u001b[0m\u001b[0;34m.\u001b[0m\u001b[0mget_context\u001b[0m\u001b[0;34m(\u001b[0m\u001b[0;34m)\u001b[0m\u001b[0;34m.\u001b[0m\u001b[0mconnect\u001b[0m\u001b[0;34m(\u001b[0m\u001b[0;34m*\u001b[0m\u001b[0margs\u001b[0m\u001b[0;34m,\u001b[0m \u001b[0;34m**\u001b[0m\u001b[0mkw_args\u001b[0m\u001b[0;34m)\u001b[0m\u001b[0;34m\u001b[0m\u001b[0;34m\u001b[0m\u001b[0m\n\u001b[0m\u001b[1;32m    244\u001b[0m         \u001b[0;32mglobal\u001b[0m \u001b[0m_lock\u001b[0m\u001b[0;34m,\u001b[0m \u001b[0m_all_contexts\u001b[0m\u001b[0;34m\u001b[0m\u001b[0;34m\u001b[0m\u001b[0m\n\u001b[1;32m    245\u001b[0m         \u001b[0;32mwith\u001b[0m \u001b[0m_lock\u001b[0m\u001b[0;34m:\u001b[0m\u001b[0;34m\u001b[0m\u001b[0;34m\u001b[0m\u001b[0m\n",
      "\u001b[0;32m/emr/notebook-env/lib/python3.7/site-packages/ray/util/client/__init__.py\u001b[0m in \u001b[0;36mconnect\u001b[0;34m(self, conn_str, job_config, secure, metadata, connection_retries, namespace, ignore_version, _credentials, ray_init_kwargs)\u001b[0m\n\u001b[1;32m     92\u001b[0m             )\n\u001b[1;32m     93\u001b[0m             \u001b[0mself\u001b[0m\u001b[0;34m.\u001b[0m\u001b[0mapi\u001b[0m\u001b[0;34m.\u001b[0m\u001b[0mworker\u001b[0m \u001b[0;34m=\u001b[0m \u001b[0mself\u001b[0m\u001b[0;34m.\u001b[0m\u001b[0mclient_worker\u001b[0m\u001b[0;34m\u001b[0m\u001b[0;34m\u001b[0m\u001b[0m\n\u001b[0;32m---> 94\u001b[0;31m             \u001b[0mself\u001b[0m\u001b[0;34m.\u001b[0m\u001b[0mclient_worker\u001b[0m\u001b[0;34m.\u001b[0m\u001b[0m_server_init\u001b[0m\u001b[0;34m(\u001b[0m\u001b[0mjob_config\u001b[0m\u001b[0;34m,\u001b[0m \u001b[0mray_init_kwargs\u001b[0m\u001b[0;34m)\u001b[0m\u001b[0;34m\u001b[0m\u001b[0;34m\u001b[0m\u001b[0m\n\u001b[0m\u001b[1;32m     95\u001b[0m             \u001b[0mconn_info\u001b[0m \u001b[0;34m=\u001b[0m \u001b[0mself\u001b[0m\u001b[0;34m.\u001b[0m\u001b[0mclient_worker\u001b[0m\u001b[0;34m.\u001b[0m\u001b[0mconnection_info\u001b[0m\u001b[0;34m(\u001b[0m\u001b[0;34m)\u001b[0m\u001b[0;34m\u001b[0m\u001b[0;34m\u001b[0m\u001b[0m\n\u001b[1;32m     96\u001b[0m             \u001b[0mself\u001b[0m\u001b[0;34m.\u001b[0m\u001b[0m_check_versions\u001b[0m\u001b[0;34m(\u001b[0m\u001b[0mconn_info\u001b[0m\u001b[0;34m,\u001b[0m \u001b[0mignore_version\u001b[0m\u001b[0;34m)\u001b[0m\u001b[0;34m\u001b[0m\u001b[0;34m\u001b[0m\u001b[0m\n",
      "\u001b[0;32m/emr/notebook-env/lib/python3.7/site-packages/ray/util/client/worker.py\u001b[0m in \u001b[0;36m_server_init\u001b[0;34m(self, job_config, ray_init_kwargs)\u001b[0m\n\u001b[1;32m    793\u001b[0m                     )\n\u001b[1;32m    794\u001b[0m                     runtime_env = upload_working_dir_if_needed(\n\u001b[0;32m--> 795\u001b[0;31m                         \u001b[0mruntime_env\u001b[0m\u001b[0;34m,\u001b[0m \u001b[0mtmp_dir\u001b[0m\u001b[0;34m,\u001b[0m \u001b[0mlogger\u001b[0m\u001b[0;34m=\u001b[0m\u001b[0mlogger\u001b[0m\u001b[0;34m\u001b[0m\u001b[0;34m\u001b[0m\u001b[0m\n\u001b[0m\u001b[1;32m    796\u001b[0m                     )\n\u001b[1;32m    797\u001b[0m                     \u001b[0;31m# Remove excludes, it isn't relevant after the upload step.\u001b[0m\u001b[0;34m\u001b[0m\u001b[0;34m\u001b[0m\u001b[0;34m\u001b[0m\u001b[0m\n",
      "\u001b[0;32m/emr/notebook-env/lib/python3.7/site-packages/ray/_private/runtime_env/working_dir.py\u001b[0m in \u001b[0;36mupload_working_dir_if_needed\u001b[0;34m(runtime_env, scratch_dir, logger, upload_fn)\u001b[0m\n\u001b[1;32m     59\u001b[0m     \u001b[0mexcludes\u001b[0m \u001b[0;34m=\u001b[0m \u001b[0mruntime_env\u001b[0m\u001b[0;34m.\u001b[0m\u001b[0mget\u001b[0m\u001b[0;34m(\u001b[0m\u001b[0;34m\"excludes\"\u001b[0m\u001b[0;34m,\u001b[0m \u001b[0;32mNone\u001b[0m\u001b[0;34m)\u001b[0m\u001b[0;34m\u001b[0m\u001b[0;34m\u001b[0m\u001b[0m\n\u001b[1;32m     60\u001b[0m     \u001b[0;32mtry\u001b[0m\u001b[0;34m:\u001b[0m\u001b[0;34m\u001b[0m\u001b[0;34m\u001b[0m\u001b[0m\n\u001b[0;32m---> 61\u001b[0;31m         \u001b[0mworking_dir_uri\u001b[0m \u001b[0;34m=\u001b[0m \u001b[0mget_uri_for_directory\u001b[0m\u001b[0;34m(\u001b[0m\u001b[0mworking_dir\u001b[0m\u001b[0;34m,\u001b[0m \u001b[0mexcludes\u001b[0m\u001b[0;34m=\u001b[0m\u001b[0mexcludes\u001b[0m\u001b[0;34m)\u001b[0m\u001b[0;34m\u001b[0m\u001b[0;34m\u001b[0m\u001b[0m\n\u001b[0m\u001b[1;32m     62\u001b[0m     \u001b[0;32mexcept\u001b[0m \u001b[0mValueError\u001b[0m\u001b[0;34m:\u001b[0m  \u001b[0;31m# working_dir is not a directory\u001b[0m\u001b[0;34m\u001b[0m\u001b[0;34m\u001b[0m\u001b[0m\n\u001b[1;32m     63\u001b[0m         \u001b[0mpackage_path\u001b[0m \u001b[0;34m=\u001b[0m \u001b[0mPath\u001b[0m\u001b[0;34m(\u001b[0m\u001b[0mworking_dir\u001b[0m\u001b[0;34m)\u001b[0m\u001b[0;34m\u001b[0m\u001b[0;34m\u001b[0m\u001b[0m\n",
      "\u001b[0;32m/emr/notebook-env/lib/python3.7/site-packages/ray/_private/runtime_env/packaging.py\u001b[0m in \u001b[0;36mget_uri_for_directory\u001b[0;34m(directory, excludes)\u001b[0m\n\u001b[1;32m    379\u001b[0m         \u001b[0;32mraise\u001b[0m \u001b[0mValueError\u001b[0m\u001b[0;34m(\u001b[0m\u001b[0;34mf\"directory {directory} must be an existing directory\"\u001b[0m\u001b[0;34m)\u001b[0m\u001b[0;34m\u001b[0m\u001b[0;34m\u001b[0m\u001b[0m\n\u001b[1;32m    380\u001b[0m \u001b[0;34m\u001b[0m\u001b[0m\n\u001b[0;32m--> 381\u001b[0;31m     \u001b[0mhash_val\u001b[0m \u001b[0;34m=\u001b[0m \u001b[0m_hash_directory\u001b[0m\u001b[0;34m(\u001b[0m\u001b[0mdirectory\u001b[0m\u001b[0;34m,\u001b[0m \u001b[0mdirectory\u001b[0m\u001b[0;34m,\u001b[0m \u001b[0m_get_excludes\u001b[0m\u001b[0;34m(\u001b[0m\u001b[0mdirectory\u001b[0m\u001b[0;34m,\u001b[0m \u001b[0mexcludes\u001b[0m\u001b[0;34m)\u001b[0m\u001b[0;34m)\u001b[0m\u001b[0;34m\u001b[0m\u001b[0;34m\u001b[0m\u001b[0m\n\u001b[0m\u001b[1;32m    382\u001b[0m \u001b[0;34m\u001b[0m\u001b[0m\n\u001b[1;32m    383\u001b[0m     return \"{protocol}://{pkg_name}.zip\".format(\n",
      "\u001b[0;32m/emr/notebook-env/lib/python3.7/site-packages/ray/_private/runtime_env/packaging.py\u001b[0m in \u001b[0;36m_hash_directory\u001b[0;34m(root, relative_path, excludes, logger)\u001b[0m\n\u001b[1;32m    120\u001b[0m \u001b[0;34m\u001b[0m\u001b[0m\n\u001b[1;32m    121\u001b[0m     \u001b[0mexcludes\u001b[0m \u001b[0;34m=\u001b[0m \u001b[0;34m[\u001b[0m\u001b[0;34m]\u001b[0m \u001b[0;32mif\u001b[0m \u001b[0mexcludes\u001b[0m \u001b[0;32mis\u001b[0m \u001b[0;32mNone\u001b[0m \u001b[0;32melse\u001b[0m \u001b[0;34m[\u001b[0m\u001b[0mexcludes\u001b[0m\u001b[0;34m]\u001b[0m\u001b[0;34m\u001b[0m\u001b[0;34m\u001b[0m\u001b[0m\n\u001b[0;32m--> 122\u001b[0;31m     \u001b[0m_dir_travel\u001b[0m\u001b[0;34m(\u001b[0m\u001b[0mroot\u001b[0m\u001b[0;34m,\u001b[0m \u001b[0mexcludes\u001b[0m\u001b[0;34m,\u001b[0m \u001b[0mhandler\u001b[0m\u001b[0;34m,\u001b[0m \u001b[0mlogger\u001b[0m\u001b[0;34m=\u001b[0m\u001b[0mlogger\u001b[0m\u001b[0;34m)\u001b[0m\u001b[0;34m\u001b[0m\u001b[0;34m\u001b[0m\u001b[0m\n\u001b[0m\u001b[1;32m    123\u001b[0m     \u001b[0;32mreturn\u001b[0m \u001b[0mhash_val\u001b[0m\u001b[0;34m\u001b[0m\u001b[0;34m\u001b[0m\u001b[0m\n\u001b[1;32m    124\u001b[0m \u001b[0;34m\u001b[0m\u001b[0m\n",
      "\u001b[0;32m/emr/notebook-env/lib/python3.7/site-packages/ray/_private/runtime_env/packaging.py\u001b[0m in \u001b[0;36m_dir_travel\u001b[0;34m(path, excludes, handler, logger)\u001b[0m\n\u001b[1;32m     87\u001b[0m         \u001b[0;32mif\u001b[0m \u001b[0mpath\u001b[0m\u001b[0;34m.\u001b[0m\u001b[0mis_dir\u001b[0m\u001b[0;34m(\u001b[0m\u001b[0;34m)\u001b[0m\u001b[0;34m:\u001b[0m\u001b[0;34m\u001b[0m\u001b[0;34m\u001b[0m\u001b[0m\n\u001b[1;32m     88\u001b[0m             \u001b[0;32mfor\u001b[0m \u001b[0msub_path\u001b[0m \u001b[0;32min\u001b[0m \u001b[0mpath\u001b[0m\u001b[0;34m.\u001b[0m\u001b[0miterdir\u001b[0m\u001b[0;34m(\u001b[0m\u001b[0;34m)\u001b[0m\u001b[0;34m:\u001b[0m\u001b[0;34m\u001b[0m\u001b[0;34m\u001b[0m\u001b[0m\n\u001b[0;32m---> 89\u001b[0;31m                 \u001b[0m_dir_travel\u001b[0m\u001b[0;34m(\u001b[0m\u001b[0msub_path\u001b[0m\u001b[0;34m,\u001b[0m \u001b[0mexcludes\u001b[0m\u001b[0;34m,\u001b[0m \u001b[0mhandler\u001b[0m\u001b[0;34m,\u001b[0m \u001b[0mlogger\u001b[0m\u001b[0;34m=\u001b[0m\u001b[0mlogger\u001b[0m\u001b[0;34m)\u001b[0m\u001b[0;34m\u001b[0m\u001b[0;34m\u001b[0m\u001b[0m\n\u001b[0m\u001b[1;32m     90\u001b[0m \u001b[0;34m\u001b[0m\u001b[0m\n\u001b[1;32m     91\u001b[0m     \u001b[0;32mif\u001b[0m \u001b[0me\u001b[0m \u001b[0;32mis\u001b[0m \u001b[0;32mnot\u001b[0m \u001b[0;32mNone\u001b[0m\u001b[0;34m:\u001b[0m\u001b[0;34m\u001b[0m\u001b[0;34m\u001b[0m\u001b[0m\n",
      "\u001b[0;32m/emr/notebook-env/lib/python3.7/site-packages/ray/_private/runtime_env/packaging.py\u001b[0m in \u001b[0;36m_dir_travel\u001b[0;34m(path, excludes, handler, logger)\u001b[0m\n\u001b[1;32m     87\u001b[0m         \u001b[0;32mif\u001b[0m \u001b[0mpath\u001b[0m\u001b[0;34m.\u001b[0m\u001b[0mis_dir\u001b[0m\u001b[0;34m(\u001b[0m\u001b[0;34m)\u001b[0m\u001b[0;34m:\u001b[0m\u001b[0;34m\u001b[0m\u001b[0;34m\u001b[0m\u001b[0m\n\u001b[1;32m     88\u001b[0m             \u001b[0;32mfor\u001b[0m \u001b[0msub_path\u001b[0m \u001b[0;32min\u001b[0m \u001b[0mpath\u001b[0m\u001b[0;34m.\u001b[0m\u001b[0miterdir\u001b[0m\u001b[0;34m(\u001b[0m\u001b[0;34m)\u001b[0m\u001b[0;34m:\u001b[0m\u001b[0;34m\u001b[0m\u001b[0;34m\u001b[0m\u001b[0m\n\u001b[0;32m---> 89\u001b[0;31m                 \u001b[0m_dir_travel\u001b[0m\u001b[0;34m(\u001b[0m\u001b[0msub_path\u001b[0m\u001b[0;34m,\u001b[0m \u001b[0mexcludes\u001b[0m\u001b[0;34m,\u001b[0m \u001b[0mhandler\u001b[0m\u001b[0;34m,\u001b[0m \u001b[0mlogger\u001b[0m\u001b[0;34m=\u001b[0m\u001b[0mlogger\u001b[0m\u001b[0;34m)\u001b[0m\u001b[0;34m\u001b[0m\u001b[0;34m\u001b[0m\u001b[0m\n\u001b[0m\u001b[1;32m     90\u001b[0m \u001b[0;34m\u001b[0m\u001b[0m\n\u001b[1;32m     91\u001b[0m     \u001b[0;32mif\u001b[0m \u001b[0me\u001b[0m \u001b[0;32mis\u001b[0m \u001b[0;32mnot\u001b[0m \u001b[0;32mNone\u001b[0m\u001b[0;34m:\u001b[0m\u001b[0;34m\u001b[0m\u001b[0;34m\u001b[0m\u001b[0m\n",
      "\u001b[0;32m/emr/notebook-env/lib/python3.7/site-packages/ray/_private/runtime_env/packaging.py\u001b[0m in \u001b[0;36m_dir_travel\u001b[0;34m(path, excludes, handler, logger)\u001b[0m\n\u001b[1;32m     84\u001b[0m         \u001b[0;32mexcept\u001b[0m \u001b[0mException\u001b[0m \u001b[0;32mas\u001b[0m \u001b[0me\u001b[0m\u001b[0;34m:\u001b[0m\u001b[0;34m\u001b[0m\u001b[0;34m\u001b[0m\u001b[0m\n\u001b[1;32m     85\u001b[0m             \u001b[0mlogger\u001b[0m\u001b[0;34m.\u001b[0m\u001b[0merror\u001b[0m\u001b[0;34m(\u001b[0m\u001b[0;34mf\"Issue with path: {path}\"\u001b[0m\u001b[0;34m)\u001b[0m\u001b[0;34m\u001b[0m\u001b[0;34m\u001b[0m\u001b[0m\n\u001b[0;32m---> 86\u001b[0;31m             \u001b[0;32mraise\u001b[0m \u001b[0me\u001b[0m\u001b[0;34m\u001b[0m\u001b[0;34m\u001b[0m\u001b[0m\n\u001b[0m\u001b[1;32m     87\u001b[0m         \u001b[0;32mif\u001b[0m \u001b[0mpath\u001b[0m\u001b[0;34m.\u001b[0m\u001b[0mis_dir\u001b[0m\u001b[0;34m(\u001b[0m\u001b[0;34m)\u001b[0m\u001b[0;34m:\u001b[0m\u001b[0;34m\u001b[0m\u001b[0;34m\u001b[0m\u001b[0m\n\u001b[1;32m     88\u001b[0m             \u001b[0;32mfor\u001b[0m \u001b[0msub_path\u001b[0m \u001b[0;32min\u001b[0m \u001b[0mpath\u001b[0m\u001b[0;34m.\u001b[0m\u001b[0miterdir\u001b[0m\u001b[0;34m(\u001b[0m\u001b[0;34m)\u001b[0m\u001b[0;34m:\u001b[0m\u001b[0;34m\u001b[0m\u001b[0;34m\u001b[0m\u001b[0m\n",
      "\u001b[0;32m/emr/notebook-env/lib/python3.7/site-packages/ray/_private/runtime_env/packaging.py\u001b[0m in \u001b[0;36m_dir_travel\u001b[0;34m(path, excludes, handler, logger)\u001b[0m\n\u001b[1;32m     81\u001b[0m     \u001b[0;32mif\u001b[0m \u001b[0;32mnot\u001b[0m \u001b[0mskip\u001b[0m\u001b[0;34m:\u001b[0m\u001b[0;34m\u001b[0m\u001b[0;34m\u001b[0m\u001b[0m\n\u001b[1;32m     82\u001b[0m         \u001b[0;32mtry\u001b[0m\u001b[0;34m:\u001b[0m\u001b[0;34m\u001b[0m\u001b[0;34m\u001b[0m\u001b[0m\n\u001b[0;32m---> 83\u001b[0;31m             \u001b[0mhandler\u001b[0m\u001b[0;34m(\u001b[0m\u001b[0mpath\u001b[0m\u001b[0;34m)\u001b[0m\u001b[0;34m\u001b[0m\u001b[0;34m\u001b[0m\u001b[0m\n\u001b[0m\u001b[1;32m     84\u001b[0m         \u001b[0;32mexcept\u001b[0m \u001b[0mException\u001b[0m \u001b[0;32mas\u001b[0m \u001b[0me\u001b[0m\u001b[0;34m:\u001b[0m\u001b[0;34m\u001b[0m\u001b[0;34m\u001b[0m\u001b[0m\n\u001b[1;32m     85\u001b[0m             \u001b[0mlogger\u001b[0m\u001b[0;34m.\u001b[0m\u001b[0merror\u001b[0m\u001b[0;34m(\u001b[0m\u001b[0;34mf\"Issue with path: {path}\"\u001b[0m\u001b[0;34m)\u001b[0m\u001b[0;34m\u001b[0m\u001b[0;34m\u001b[0m\u001b[0m\n",
      "\u001b[0;32m/emr/notebook-env/lib/python3.7/site-packages/ray/_private/runtime_env/packaging.py\u001b[0m in \u001b[0;36mhandler\u001b[0;34m(path)\u001b[0m\n\u001b[1;32m    111\u001b[0m         \u001b[0mmd5\u001b[0m\u001b[0;34m.\u001b[0m\u001b[0mupdate\u001b[0m\u001b[0;34m(\u001b[0m\u001b[0mstr\u001b[0m\u001b[0;34m(\u001b[0m\u001b[0mpath\u001b[0m\u001b[0;34m.\u001b[0m\u001b[0mrelative_to\u001b[0m\u001b[0;34m(\u001b[0m\u001b[0mrelative_path\u001b[0m\u001b[0;34m)\u001b[0m\u001b[0;34m)\u001b[0m\u001b[0;34m.\u001b[0m\u001b[0mencode\u001b[0m\u001b[0;34m(\u001b[0m\u001b[0;34m)\u001b[0m\u001b[0;34m)\u001b[0m\u001b[0;34m\u001b[0m\u001b[0;34m\u001b[0m\u001b[0m\n\u001b[1;32m    112\u001b[0m         \u001b[0;32mif\u001b[0m \u001b[0;32mnot\u001b[0m \u001b[0mpath\u001b[0m\u001b[0;34m.\u001b[0m\u001b[0mis_dir\u001b[0m\u001b[0;34m(\u001b[0m\u001b[0;34m)\u001b[0m\u001b[0;34m:\u001b[0m\u001b[0;34m\u001b[0m\u001b[0;34m\u001b[0m\u001b[0m\n\u001b[0;32m--> 113\u001b[0;31m             \u001b[0;32mwith\u001b[0m \u001b[0mpath\u001b[0m\u001b[0;34m.\u001b[0m\u001b[0mopen\u001b[0m\u001b[0;34m(\u001b[0m\u001b[0;34m\"rb\"\u001b[0m\u001b[0;34m)\u001b[0m \u001b[0;32mas\u001b[0m \u001b[0mf\u001b[0m\u001b[0;34m:\u001b[0m\u001b[0;34m\u001b[0m\u001b[0;34m\u001b[0m\u001b[0m\n\u001b[0m\u001b[1;32m    114\u001b[0m                 \u001b[0mdata\u001b[0m \u001b[0;34m=\u001b[0m \u001b[0mf\u001b[0m\u001b[0;34m.\u001b[0m\u001b[0mread\u001b[0m\u001b[0;34m(\u001b[0m\u001b[0mBUF_SIZE\u001b[0m\u001b[0;34m)\u001b[0m\u001b[0;34m\u001b[0m\u001b[0;34m\u001b[0m\u001b[0m\n\u001b[1;32m    115\u001b[0m                 \u001b[0;32mwhile\u001b[0m \u001b[0mlen\u001b[0m\u001b[0;34m(\u001b[0m\u001b[0mdata\u001b[0m\u001b[0;34m)\u001b[0m \u001b[0;34m!=\u001b[0m \u001b[0;36m0\u001b[0m\u001b[0;34m:\u001b[0m\u001b[0;34m\u001b[0m\u001b[0;34m\u001b[0m\u001b[0m\n",
      "\u001b[0;32m/emr/notebook-env/lib/python3.7/pathlib.py\u001b[0m in \u001b[0;36mopen\u001b[0;34m(self, mode, buffering, encoding, errors, newline)\u001b[0m\n\u001b[1;32m   1206\u001b[0m             \u001b[0mself\u001b[0m\u001b[0;34m.\u001b[0m\u001b[0m_raise_closed\u001b[0m\u001b[0;34m(\u001b[0m\u001b[0;34m)\u001b[0m\u001b[0;34m\u001b[0m\u001b[0;34m\u001b[0m\u001b[0m\n\u001b[1;32m   1207\u001b[0m         return io.open(self, mode, buffering, encoding, errors, newline,\n\u001b[0;32m-> 1208\u001b[0;31m                        opener=self._opener)\n\u001b[0m\u001b[1;32m   1209\u001b[0m \u001b[0;34m\u001b[0m\u001b[0m\n\u001b[1;32m   1210\u001b[0m     \u001b[0;32mdef\u001b[0m \u001b[0mread_bytes\u001b[0m\u001b[0;34m(\u001b[0m\u001b[0mself\u001b[0m\u001b[0;34m)\u001b[0m\u001b[0;34m:\u001b[0m\u001b[0;34m\u001b[0m\u001b[0;34m\u001b[0m\u001b[0m\n",
      "\u001b[0;32m/emr/notebook-env/lib/python3.7/pathlib.py\u001b[0m in \u001b[0;36m_opener\u001b[0;34m(self, name, flags, mode)\u001b[0m\n\u001b[1;32m   1061\u001b[0m     \u001b[0;32mdef\u001b[0m \u001b[0m_opener\u001b[0m\u001b[0;34m(\u001b[0m\u001b[0mself\u001b[0m\u001b[0;34m,\u001b[0m \u001b[0mname\u001b[0m\u001b[0;34m,\u001b[0m \u001b[0mflags\u001b[0m\u001b[0;34m,\u001b[0m \u001b[0mmode\u001b[0m\u001b[0;34m=\u001b[0m\u001b[0;36m0o666\u001b[0m\u001b[0;34m)\u001b[0m\u001b[0;34m:\u001b[0m\u001b[0;34m\u001b[0m\u001b[0;34m\u001b[0m\u001b[0m\n\u001b[1;32m   1062\u001b[0m         \u001b[0;31m# A stub for the opener argument to built-in open()\u001b[0m\u001b[0;34m\u001b[0m\u001b[0;34m\u001b[0m\u001b[0;34m\u001b[0m\u001b[0m\n\u001b[0;32m-> 1063\u001b[0;31m         \u001b[0;32mreturn\u001b[0m \u001b[0mself\u001b[0m\u001b[0;34m.\u001b[0m\u001b[0m_accessor\u001b[0m\u001b[0;34m.\u001b[0m\u001b[0mopen\u001b[0m\u001b[0;34m(\u001b[0m\u001b[0mself\u001b[0m\u001b[0;34m,\u001b[0m \u001b[0mflags\u001b[0m\u001b[0;34m,\u001b[0m \u001b[0mmode\u001b[0m\u001b[0;34m)\u001b[0m\u001b[0;34m\u001b[0m\u001b[0;34m\u001b[0m\u001b[0m\n\u001b[0m\u001b[1;32m   1064\u001b[0m \u001b[0;34m\u001b[0m\u001b[0m\n\u001b[1;32m   1065\u001b[0m     \u001b[0;32mdef\u001b[0m \u001b[0m_raw_open\u001b[0m\u001b[0;34m(\u001b[0m\u001b[0mself\u001b[0m\u001b[0;34m,\u001b[0m \u001b[0mflags\u001b[0m\u001b[0;34m,\u001b[0m \u001b[0mmode\u001b[0m\u001b[0;34m=\u001b[0m\u001b[0;36m0o777\u001b[0m\u001b[0;34m)\u001b[0m\u001b[0;34m:\u001b[0m\u001b[0;34m\u001b[0m\u001b[0;34m\u001b[0m\u001b[0m\n",
      "\u001b[0;31mPermissionError\u001b[0m: [Errno 13] Permission denied: '/dev/sdb1'"
     ]
    }
   ],
   "source": [
    "import ray\n",
    "import raydp\n",
    "\n",
    "ray.shutdown()\n",
    "ray.init(address=\"ray://localhost:10001\",\n",
    "         runtime_env={\"pip\": [\"raydp\"]})\n",
    "\n",
    "configs={\n",
    "    \"spark.driver.extraJavaOptions\": \"--add-opens=java.base/sun.nio.ch=ALL-UNNAMED --add-opens=java.base/java.lang=ALL-UNNAMED --add-opens=java.base/java.util=ALL-UNNAMED\",\n",
    "#    \"spark.jars.packages\": \"org.apache.hadoop:hadoop-aws:3.2.0,com.amazonaws:aws-java-sdk-s3:1.12.210,com.amazonaws:aws-java-sdk:1.12.210\",\n",
    "#    \"spark.hadoop.fs.s3a.impl\": \"org.apache.hadoop.fs.s3a.S3AFileSystem\",\n",
    "#    \"spark.hadoop.fs.s3a.aws.credentials.provider\": \"org.apache.hadoop.fs.s3a.SimpleAWSCredentialsProvider\"\n",
    "}\n",
    "\n",
    "raydp.stop_spark()\n",
    "spark = raydp.init_spark(\n",
    "  app_name = \"example\",\n",
    "  num_executors = 1,\n",
    "  executor_cores = 1,\n",
    "  executor_memory = \"1GB\",\n",
    "  configs = configs\n",
    ")\n",
    "\n",
    "df_from_csv = spark.read.option('delimiter', ',') \\\n",
    "                        .option('header', True) \\\n",
    "                        .csv('./data/train/part-algo-1-womens_clothing_ecommerce_reviews.csv')\n",
    "#                        .csv('s3a://dsoaws/ray/datasets/data/train/part-algo-1-womens_clothing_ecommerce_reviews.csv')\n",
    "\n",
    "\n",
    "print(df_from_csv)\n",
    "\n",
    "df_from_csv.groupBy(\"sentiment\").count().show()\n",
    "\n",
    "raydp.stop_spark()\n"
   ]
  },
  {
   "cell_type": "code",
   "execution_count": 6,
   "id": "5ef3cfe6-651a-4d6f-be97-1d7776e3901b",
   "metadata": {
    "execution": {
     "iopub.execute_input": "2022-06-30T23:48:14.654288Z",
     "iopub.status.busy": "2022-06-30T23:48:14.654055Z",
     "iopub.status.idle": "2022-06-30T23:48:14.802031Z",
     "shell.execute_reply": "2022-06-30T23:48:14.801354Z",
     "shell.execute_reply.started": "2022-06-30T23:48:14.654263Z"
    }
   },
   "outputs": [
    {
     "name": "stdout",
     "output_type": "stream",
     "text": [
      "/\n"
     ]
    }
   ],
   "source": [
    "!pwd"
   ]
  },
  {
   "cell_type": "code",
   "execution_count": 7,
   "id": "8a4613a3-2b7f-4118-b4dc-2e4c2cc52d9d",
   "metadata": {
    "execution": {
     "iopub.execute_input": "2022-06-30T23:48:21.882827Z",
     "iopub.status.busy": "2022-06-30T23:48:21.882590Z",
     "iopub.status.idle": "2022-06-30T23:48:22.032406Z",
     "shell.execute_reply": "2022-06-30T23:48:22.031560Z",
     "shell.execute_reply.started": "2022-06-30T23:48:21.882803Z"
    }
   },
   "outputs": [
    {
     "name": "stdout",
     "output_type": "stream",
     "text": [
      "Filesystem      Size  Used Avail Use% Mounted on\n",
      "devtmpfs        7.6G     0  7.6G   0% /dev\n",
      "tmpfs           7.7G  9.9M  7.6G   1% /dev/shm\n",
      "tmpfs           7.7G  612K  7.7G   1% /run\n",
      "tmpfs           7.7G     0  7.7G   0% /sys/fs/cgroup\n",
      "/dev/nvme0n1p1  100G   11G   90G  11% /\n",
      "/dev/nvme1n1p1  5.0G   49M  5.0G   1% /emr\n",
      "/dev/nvme1n1p2   27G  9.5G   18G  35% /mnt\n",
      "/dev/nvme2n1     32G   67M   32G   1% /mnt1\n",
      "tmpfs           1.6G     0  1.6G   0% /run/user/0\n",
      "tmpfs           1.6G     0  1.6G   0% /run/user/995\n"
     ]
    }
   ],
   "source": [
    "!df -h"
   ]
  },
  {
   "cell_type": "code",
   "execution_count": 8,
   "id": "a5e3824c-d215-4b40-ab8e-3c6bc82bde24",
   "metadata": {
    "execution": {
     "iopub.execute_input": "2022-06-30T23:48:32.444807Z",
     "iopub.status.busy": "2022-06-30T23:48:32.444576Z",
     "iopub.status.idle": "2022-06-30T23:48:32.594156Z",
     "shell.execute_reply": "2022-06-30T23:48:32.593454Z",
     "shell.execute_reply.started": "2022-06-30T23:48:32.444781Z"
    }
   },
   "outputs": [
    {
     "name": "stdout",
     "output_type": "stream",
     "text": [
      "total 20\n",
      "dr-xr-xr-x  19 root   root    305 Jun 30 22:53 .\n",
      "dr-xr-xr-x  19 root   root    305 Jun 30 22:53 ..\n",
      "-rw-r--r--   1 root   root      0 Jun  9 20:11 .autorelabel\n",
      "lrwxrwxrwx   1 root   root      7 Apr 28 19:53 bin -> usr/bin\n",
      "dr-xr-xr-x   4 root   root   4096 Jun  9 20:17 boot\n",
      "drwxr-xr-x  14 root   root   3060 Jun 30 22:47 dev\n",
      "-rw-r--r--   1 root   root    457 Jan  1  1980 device-names.json\n",
      "drwxr-xr-x   8 hadoop hadoop  154 Jun 30 22:52 emr\n",
      "drwxr-xr-x 113 root   root   8192 Jun 30 22:50 etc\n",
      "drwxr-xr-x   5 root   root     56 Jun 30 22:49 home\n",
      "lrwxrwxrwx   1 root   root      7 Apr 28 19:53 lib -> usr/lib\n",
      "lrwxrwxrwx   1 root   root      9 Apr 28 19:53 lib64 -> usr/lib64\n",
      "drwxr-xr-x   2 root   root      6 Apr 28 19:53 local\n",
      "drwxr-xr-x   2 root   root      6 Apr  9  2019 media\n",
      "drwxr-xr-x   9 hadoop hadoop  114 Jun 30 22:50 mnt\n",
      "drwxr-xr-x   5 hadoop hadoop   46 Jun 30 22:50 mnt1\n",
      "drwxr-xr-x   4 root   root     27 Apr 28 19:54 opt\n",
      "dr-xr-xr-x 193 root   root      0 Jun 30 22:47 proc\n",
      "dr-xr-x---   8 root   root    189 Jun 30 22:55 root\n",
      "drwxr-xr-x  42 root   root   1240 Jun 30 22:50 run\n",
      "lrwxrwxrwx   1 root   root      8 Apr 28 19:53 sbin -> usr/sbin\n",
      "drwxr-xr-x   2 root   root      6 Apr  9  2019 srv\n",
      "dr-xr-xr-x  13 root   root      0 Jun 30 22:47 sys\n",
      "lrwxrwxrwx   1 root   root      8 Jun 30 22:47 tmp -> /mnt/tmp\n",
      "drwxr-xr-x  14 root   root    166 Jun  9 20:18 usr\n",
      "drwxr-xr-x  18 root   root    312 Jun 30 22:49 var\n"
     ]
    }
   ],
   "source": [
    "!ls -al"
   ]
  },
  {
   "cell_type": "code",
   "execution_count": null,
   "id": "b4fe345a-d1fe-4981-8368-07c177806a58",
   "metadata": {},
   "outputs": [],
   "source": []
  }
 ],
 "metadata": {
  "kernelspec": {
   "display_name": "Python 3",
   "language": "python",
   "name": "python3"
  },
  "language_info": {
   "codemirror_mode": {
    "name": "ipython",
    "version": 3
   },
   "file_extension": ".py",
   "mimetype": "text/x-python",
   "name": "python",
   "nbconvert_exporter": "python",
   "pygments_lexer": "ipython3",
   "version": "3.7.10"
  }
 },
 "nbformat": 4,
 "nbformat_minor": 5
}
