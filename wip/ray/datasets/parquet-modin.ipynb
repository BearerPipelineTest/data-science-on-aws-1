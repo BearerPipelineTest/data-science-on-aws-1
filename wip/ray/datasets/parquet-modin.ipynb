{
 "cells": [
  {
   "cell_type": "code",
   "execution_count": null,
   "id": "8af5f3f5-919d-456c-ba66-710e0bbc83d9",
   "metadata": {
    "tags": []
   },
   "outputs": [],
   "source": [
    "%pip install modin s3fs"
   ]
  },
  {
   "cell_type": "code",
   "execution_count": 1,
   "id": "a1d65d37-6a53-4473-beae-4c7d8a2ea3fa",
   "metadata": {
    "execution": {
     "iopub.execute_input": "2022-06-29T01:31:41.706607Z",
     "iopub.status.busy": "2022-06-29T01:31:41.706331Z",
     "iopub.status.idle": "2022-06-29T01:31:41.803672Z",
     "shell.execute_reply": "2022-06-29T01:31:41.802852Z",
     "shell.execute_reply.started": "2022-06-29T01:31:41.706535Z"
    },
    "tags": []
   },
   "outputs": [
    {
     "ename": "ModuleNotFoundError",
     "evalue": "No module named 'ray'",
     "output_type": "error",
     "traceback": [
      "\u001b[0;31m---------------------------------------------------------------------------\u001b[0m",
      "\u001b[0;31mModuleNotFoundError\u001b[0m                       Traceback (most recent call last)",
      "\u001b[0;32m<ipython-input-1-9b215a265402>\u001b[0m in \u001b[0;36m<module>\u001b[0;34m\u001b[0m\n\u001b[0;32m----> 1\u001b[0;31m \u001b[0;32mimport\u001b[0m \u001b[0mray\u001b[0m\u001b[0;34m\u001b[0m\u001b[0;34m\u001b[0m\u001b[0m\n\u001b[0m\u001b[1;32m      2\u001b[0m \u001b[0;34m\u001b[0m\u001b[0m\n\u001b[1;32m      3\u001b[0m \u001b[0mray\u001b[0m\u001b[0;34m.\u001b[0m\u001b[0minit\u001b[0m\u001b[0;34m(\u001b[0m\u001b[0maddress\u001b[0m\u001b[0;34m=\u001b[0m\u001b[0;34m\"localhost:6379\"\u001b[0m\u001b[0;34m)\u001b[0m\u001b[0;34m\u001b[0m\u001b[0;34m\u001b[0m\u001b[0m\n",
      "\u001b[0;31mModuleNotFoundError\u001b[0m: No module named 'ray'"
     ]
    }
   ],
   "source": [
    "import ray\n",
    "\n",
    "ray.init(address=\"localhost:6379\")"
   ]
  },
  {
   "cell_type": "code",
   "execution_count": 2,
   "id": "390b8312-fbd8-462f-9534-dd48e5173447",
   "metadata": {
    "execution": {
     "iopub.execute_input": "2022-06-29T01:31:43.295383Z",
     "iopub.status.busy": "2022-06-29T01:31:43.295153Z",
     "iopub.status.idle": "2022-06-29T01:31:43.307384Z",
     "shell.execute_reply": "2022-06-29T01:31:43.306370Z",
     "shell.execute_reply.started": "2022-06-29T01:31:43.295359Z"
    },
    "tags": []
   },
   "outputs": [
    {
     "ename": "ModuleNotFoundError",
     "evalue": "No module named 'modin'",
     "output_type": "error",
     "traceback": [
      "\u001b[0;31m---------------------------------------------------------------------------\u001b[0m",
      "\u001b[0;31mModuleNotFoundError\u001b[0m                       Traceback (most recent call last)",
      "\u001b[0;32m<timed exec>\u001b[0m in \u001b[0;36m<module>\u001b[0;34m\u001b[0m\n",
      "\u001b[0;31mModuleNotFoundError\u001b[0m: No module named 'modin'"
     ]
    }
   ],
   "source": [
    "%%time\n",
    "\n",
    "import modin.pandas as pd\n",
    "\n",
    "df = pd.read_parquet(\"s3://dsoaws/parquet\")\n",
    "\n",
    "print(df.groupby(\"product_category\").count())\n"
   ]
  },
  {
   "cell_type": "code",
   "execution_count": null,
   "id": "9c4459b7-8d0f-4812-ae03-3b1125e7ffed",
   "metadata": {},
   "outputs": [],
   "source": []
  }
 ],
 "metadata": {
  "kernelspec": {
   "display_name": "Python 3",
   "language": "python",
   "name": "python3"
  },
  "language_info": {
   "codemirror_mode": {
    "name": "ipython",
    "version": 3
   },
   "file_extension": ".py",
   "mimetype": "text/x-python",
   "name": "python",
   "nbconvert_exporter": "python",
   "pygments_lexer": "ipython3",
   "version": "3.7.7"
  }
 },
 "nbformat": 4,
 "nbformat_minor": 5
}
