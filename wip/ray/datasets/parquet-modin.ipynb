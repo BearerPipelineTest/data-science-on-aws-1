{
 "cells": [
  {
   "cell_type": "code",
   "execution_count": 1,
   "id": "a1d65d37-6a53-4473-beae-4c7d8a2ea3fa",
   "metadata": {},
   "outputs": [
    {
     "data": {
      "text/plain": [
       "RayContext(dashboard_url='127.0.0.1:8265', python_version='3.7.7', ray_version='3.0.0.dev0', ray_commit='9dd30d5f77d4cdbe6b13727deb83b47a10efff7a', address_info={'node_ip_address': '172.30.0.205', 'raylet_ip_address': '172.30.0.205', 'redis_address': None, 'object_store_address': '/tmp/ray/session_2022-05-23_18-57-00_101173_264/sockets/plasma_store', 'raylet_socket_name': '/tmp/ray/session_2022-05-23_18-57-00_101173_264/sockets/raylet', 'webui_url': '127.0.0.1:8265', 'session_dir': '/tmp/ray/session_2022-05-23_18-57-00_101173_264', 'metrics_export_port': 62725, 'gcs_address': '172.30.0.205:6379', 'address': '172.30.0.205:6379', 'node_id': '57af793874336baba4d5e51c82c7bbb89c640adf0629624578862549'})"
      ]
     },
     "execution_count": 1,
     "metadata": {},
     "output_type": "execute_result"
    }
   ],
   "source": [
    "import ray\n",
    "\n",
    "ray.init(address=\"127.0.0.1:6379\")"
   ]
  },
  {
   "cell_type": "code",
   "execution_count": null,
   "id": "390b8312-fbd8-462f-9534-dd48e5173447",
   "metadata": {},
   "outputs": [
    {
     "name": "stderr",
     "output_type": "stream",
     "text": [
      "2022-05-23 19:20:46,313\tWARNING worker.py:1416 -- A worker died or was killed while executing a task by an unexpected system error. To troubleshoot the problem, check the logs for the dead worker. RayTask ID: 4cc2eb0fd2e6ac03acebfec4627bba2c32776efb04000000 Worker ID: ce20d2f39e1dc2a254183a1ce341b9bd1c574997eaa25b0b5b786cc3 Node ID: d27697c6a5e1181ed3a849502b2e87f3c011402587f8e2b82accc20d Worker IP address: 172.30.0.185 Worker port: 10022 Worker PID: 8350 Worker exit type: SYSTEM_ERROR Worker exit detail: Worker unexpectedly exits with a connection error code 2. End of file. There are some potential root causes. (1) The process is killed by SIGKILL by OOM killer due to high memory usage. (2) ray stop --force is called. (3) The worker is crashed unexpectedly due to SIGSEGV or other unexpected errors.\n",
      "2022-05-23 19:22:10,785\tWARNING worker.py:1416 -- A worker died or was killed while executing a task by an unexpected system error. To troubleshoot the problem, check the logs for the dead worker. RayTask ID: 58d215808483c2adf05eeee47f3826a89304fcb404000000 Worker ID: b6d70e401bde02d8774a3bdf9b52a94a31bc32ab95509f8e6a9967b1 Node ID: d27697c6a5e1181ed3a849502b2e87f3c011402587f8e2b82accc20d Worker IP address: 172.30.0.185 Worker port: 10026 Worker PID: 8367 Worker exit type: SYSTEM_ERROR Worker exit detail: Worker unexpectedly exits with a connection error code 2. End of file. There are some potential root causes. (1) The process is killed by SIGKILL by OOM killer due to high memory usage. (2) ray stop --force is called. (3) The worker is crashed unexpectedly due to SIGSEGV or other unexpected errors.\n"
     ]
    }
   ],
   "source": [
    "%%time\n",
    "\n",
    "import modin.pandas as pd\n",
    "\n",
    "df = pd.read_parquet(\"s3://dsoaws/parquet\")\n",
    "\n",
    "print(df.groupby(\"sentiment\").count())\n"
   ]
  }
 ],
 "metadata": {
  "kernelspec": {
   "display_name": "Python 3 (ipykernel)",
   "language": "python",
   "name": "python3"
  },
  "language_info": {
   "codemirror_mode": {
    "name": "ipython",
    "version": 3
   },
   "file_extension": ".py",
   "mimetype": "text/x-python",
   "name": "python",
   "nbconvert_exporter": "python",
   "pygments_lexer": "ipython3",
   "version": "3.7.7"
  }
 },
 "nbformat": 4,
 "nbformat_minor": 5
}
