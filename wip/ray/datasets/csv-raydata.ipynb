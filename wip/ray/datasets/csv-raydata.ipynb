{
 "cells": [
  {
   "cell_type": "code",
   "execution_count": null,
   "id": "e5eecfd2-ccc7-42fc-a4ea-23ff354eeb9a",
   "metadata": {},
   "outputs": [],
   "source": [
    "#!pwd"
   ]
  },
  {
   "cell_type": "code",
   "execution_count": 1,
   "id": "c70c8abc-e701-4ccc-a445-012c62b7215e",
   "metadata": {
    "execution": {
     "iopub.execute_input": "2022-06-30T22:56:44.746365Z",
     "iopub.status.busy": "2022-06-30T22:56:44.746094Z",
     "iopub.status.idle": "2022-06-30T22:56:51.372070Z",
     "shell.execute_reply": "2022-06-30T22:56:51.371334Z",
     "shell.execute_reply.started": "2022-06-30T22:56:44.746298Z"
    },
    "tags": []
   },
   "outputs": [
    {
     "name": "stderr",
     "output_type": "stream",
     "text": [
      "2022-06-30 22:56:48,688\tWARNING read_api.py:256 -- The number of blocks in this dataset (1) limits its parallelism to 1 concurrent tasks. This is much less than the number of available CPU slots in the cluster. Use `.repartition(n)` to increase the number of dataset blocks.\n",
      "Caught schedule exception\n",
      "2022-06-30 22:56:48,729\tINFO common.py:220 -- Exception from actor creation is ignored in destructor. To receive this exception in application code, call a method on the actor reference before its destructor is run.\n",
      "Read: 100%|██████████| 1/1 [00:01<00:00,  1.08s/it]\n",
      "Sort Sample: 100%|██████████| 1/1 [00:00<00:00, 101.46it/s]\n",
      "Shuffle Map: 100%|██████████| 1/1 [00:00<00:00, 12.45it/s]\n",
      "Shuffle Reduce: 100%|██████████| 1/1 [00:00<00:00,  1.09it/s]"
     ]
    },
    {
     "name": "stdout",
     "output_type": "stream",
     "text": [
      "{'sentiment': -1, 'count()': 1845}\n",
      "{'sentiment': 0, 'count()': 1846}\n",
      "{'sentiment': 1, 'count()': 1846}\n"
     ]
    },
    {
     "name": "stderr",
     "output_type": "stream",
     "text": [
      "\n"
     ]
    }
   ],
   "source": [
    "import ray\n",
    "\n",
    "ray.shutdown()\n",
    "ray.init(address=\"ray://localhost:10001\")\n",
    "\n",
    "df = ray.data.read_csv(paths=\"s3://dsoaws/ray/datasets/data/train/part-algo-1-womens_clothing_ecommerce_reviews.csv\")\n",
    "\n",
    "df.groupby(\"sentiment\").count().show()"
   ]
  },
  {
   "cell_type": "code",
   "execution_count": null,
   "id": "63ebdbe3-17d4-4d20-90be-cf46fb6cb98e",
   "metadata": {},
   "outputs": [],
   "source": []
  }
 ],
 "metadata": {
  "kernelspec": {
   "display_name": "Python 3",
   "language": "python",
   "name": "python3"
  },
  "language_info": {
   "codemirror_mode": {
    "name": "ipython",
    "version": 3
   },
   "file_extension": ".py",
   "mimetype": "text/x-python",
   "name": "python",
   "nbconvert_exporter": "python",
   "pygments_lexer": "ipython3",
   "version": "3.7.10"
  }
 },
 "nbformat": 4,
 "nbformat_minor": 5
}
