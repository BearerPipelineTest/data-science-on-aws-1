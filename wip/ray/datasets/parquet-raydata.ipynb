{
 "cells": [
  {
   "cell_type": "code",
   "execution_count": null,
   "id": "a1d65d37-6a53-4473-beae-4c7d8a2ea3fa",
   "metadata": {},
   "outputs": [
    {
     "name": "stderr",
     "output_type": "stream",
     "text": [
      "Metadata Fetch Progress:   0%|          | 0/71 [00:00<?, ?it/s]\n",
      "Metadata Fetch Progress:   0%|          | 0/71 [00:00<?, ?it/s]\n",
      "Metadata Fetch Progress:   0%|          | 0/71 [00:00<?, ?it/s]\n",
      "Metadata Fetch Progress:   0%|          | 0/71 [00:00<?, ?it/s]\n",
      "Metadata Fetch Progress:   0%|          | 0/71 [00:00<?, ?it/s]\n",
      "Metadata Fetch Progress:   0%|          | 0/71 [00:00<?, ?it/s]\n",
      "Metadata Fetch Progress:   0%|          | 0/71 [00:00<?, ?it/s]\n",
      "Metadata Fetch Progress:   0%|          | 0/71 [00:00<?, ?it/s]\n",
      "Metadata Fetch Progress:   0%|          | 0/71 [00:00<?, ?it/s]\n",
      "Metadata Fetch Progress:   0%|          | 0/71 [00:00<?, ?it/s]\n",
      "Metadata Fetch Progress:   0%|          | 0/71 [00:01<?, ?it/s]\n",
      "Metadata Fetch Progress:   0%|          | 0/71 [00:01<?, ?it/s]\n",
      "Metadata Fetch Progress:   0%|          | 0/71 [00:01<?, ?it/s]\n",
      "Metadata Fetch Progress:   0%|          | 0/71 [00:01<?, ?it/s]\n",
      "Metadata Fetch Progress:   0%|          | 0/71 [00:01<?, ?it/s]\n",
      "Metadata Fetch Progress:   0%|          | 0/71 [00:01<?, ?it/s]\n",
      "Metadata Fetch Progress:   0%|          | 0/71 [00:01<?, ?it/s]\n",
      "Metadata Fetch Progress:   0%|          | 0/71 [00:01<?, ?it/s]\n",
      "Metadata Fetch Progress:   0%|          | 0/71 [00:01<?, ?it/s]\n",
      "Metadata Fetch Progress:   0%|          | 0/71 [00:01<?, ?it/s]\n",
      "Metadata Fetch Progress:   3%|▎         | 2/71 [00:02<00:04, 16.42it/s]\n",
      "Metadata Fetch Progress:   4%|▍         | 3/71 [00:02<00:07,  9.59it/s]\n",
      "Metadata Fetch Progress:   6%|▌         | 4/71 [00:02<00:10,  6.61it/s]\n",
      "Metadata Fetch Progress:   7%|▋         | 5/71 [00:02<00:09,  7.10it/s]\n",
      "Metadata Fetch Progress:  13%|█▎        | 9/71 [00:02<00:04, 14.94it/s]\n",
      "Metadata Fetch Progress:  18%|█▊        | 13/71 [00:02<00:02, 20.12it/s]\n",
      "Metadata Fetch Progress:  21%|██        | 15/71 [00:02<00:03, 17.81it/s]\n",
      "Metadata Fetch Progress:  24%|██▍       | 17/71 [00:03<00:03, 13.57it/s]\n",
      "Metadata Fetch Progress:  27%|██▋       | 19/71 [00:03<00:03, 13.26it/s]\n",
      "Metadata Fetch Progress:  31%|███       | 22/71 [00:03<00:03, 15.70it/s]\n",
      "Metadata Fetch Progress:  34%|███▍      | 24/71 [00:03<00:04, 11.69it/s]\n",
      "Metadata Fetch Progress:  37%|███▋      | 26/71 [00:03<00:03, 12.12it/s]\n",
      "Metadata Fetch Progress:  44%|████▎     | 31/71 [00:04<00:02, 17.73it/s]\n",
      "Metadata Fetch Progress:  49%|████▉     | 35/71 [00:04<00:01, 20.61it/s]\n",
      "Metadata Fetch Progress:  54%|█████▎    | 38/71 [00:04<00:01, 21.59it/s]\n",
      "Metadata Fetch Progress:  58%|█████▊    | 41/71 [00:04<00:01, 21.80it/s]\n",
      "Metadata Fetch Progress:  62%|██████▏   | 44/71 [00:04<00:01, 19.12it/s]\n",
      "Metadata Fetch Progress:  66%|██████▌   | 47/71 [00:04<00:01, 15.95it/s]\n",
      "Metadata Fetch Progress:  69%|██████▉   | 49/71 [00:05<00:01, 16.56it/s]\n",
      "Metadata Fetch Progress:  73%|███████▎  | 52/71 [00:05<00:00, 19.10it/s]\n",
      "Metadata Fetch Progress:  77%|███████▋  | 55/71 [00:05<00:00, 18.40it/s]\n",
      "Metadata Fetch Progress:  83%|████████▎ | 59/71 [00:05<00:00, 20.67it/s]\n",
      "Metadata Fetch Progress:  87%|████████▋ | 62/71 [00:05<00:00, 13.16it/s]\n",
      "Metadata Fetch Progress:  90%|█████████ | 64/71 [00:06<00:00, 13.17it/s]\n",
      "Metadata Fetch Progress:  93%|█████████▎| 66/71 [00:06<00:00,  9.40it/s]\n",
      "Metadata Fetch Progress: 100%|██████████| 71/71 [00:06<00:00, 10.60it/s]\n",
      "Read: 100%|██████████| 200/200 [00:29<00:00,  6.82it/s]\n",
      "Sort Sample: 100%|██████████| 200/200 [00:04<00:00, 46.44it/s]  \n",
      "Shuffle Map:   7%|▋         | 14/200 [00:12<04:35,  1.48s/it]\u001b[2m\u001b[36m(raylet, ip=172.30.0.136)\u001b[0m Spilled 4308 MiB, 2 objects, write throughput 269 MiB/s. Set RAY_verbose_spill_logs=0 to disable this message.\n",
      "Shuffle Map:   8%|▊         | 16/200 [00:16<05:57,  1.95s/it]\u001b[2m\u001b[36m(raylet, ip=172.30.0.10)\u001b[0m Spilled 10559 MiB, 37 objects, write throughput 591 MiB/s. Set RAY_verbose_spill_logs=0 to disable this message.\n",
      "Shuffle Map:  20%|██        | 41/200 [00:34<03:07,  1.18s/it]\u001b[2m\u001b[36m(raylet, ip=172.30.0.83)\u001b[0m Spilled 14428 MiB, 38 objects, write throughput 362 MiB/s. Set RAY_verbose_spill_logs=0 to disable this message.\n",
      "\u001b[2m\u001b[36m(raylet)\u001b[0m Spilled 5276 MiB, 2 objects, write throughput 131 MiB/s. Set RAY_verbose_spill_logs=0 to disable this message.\n",
      "Shuffle Map:  22%|██▏       | 43/200 [00:38<03:34,  1.36s/it]\u001b[2m\u001b[36m(raylet, ip=172.30.0.136)\u001b[0m Spilled 15557 MiB, 30 objects, write throughput 368 MiB/s.\n",
      "Shuffle Map:  29%|██▉       | 58/200 [00:49<02:31,  1.07s/it]\u001b[2m\u001b[36m(raylet)\u001b[0m Spilled 16509 MiB, 231 objects, write throughput 313 MiB/s.\n",
      "Shuffle Map:  73%|███████▎  | 146/200 [01:46<00:45,  1.20it/s]\u001b[2m\u001b[36m(raylet, ip=172.30.0.185)\u001b[0m Spilled 6060 MiB, 20 objects, write throughput 295 MiB/s. Set RAY_verbose_spill_logs=0 to disable this message.\n",
      "Shuffle Map:  76%|███████▋  | 153/200 [01:49<00:17,  2.72it/s]\u001b[2m\u001b[36m(raylet, ip=172.30.0.185)\u001b[0m Spilled 6832 MiB, 23 objects, write throughput 298 MiB/s.\n",
      "Shuffle Map:  98%|█████████▊| 195/200 [02:52<00:21,  4.34s/it]\u001b[2m\u001b[36m(raylet, ip=172.30.0.185)\u001b[0m Spilled 9959 MiB, 27 objects, write throughput 356 MiB/s.\n"
     ]
    }
   ],
   "source": [
    "import ray\n",
    "import pyarrow as pa\n",
    "\n",
    "ray.init(address=\"127.0.0.1:6379\")\n",
    "\n",
    "def cast(t: pa.Table) -> pa.Table:\n",
    "    schema = t.schema\n",
    "    field_idx = schema.get_field_index(\"review_body\")\n",
    "    field = schema.field(field_idx)\n",
    "    new_field = field.with_type(pa.large_string())\n",
    "    new_schema = schema.set(field_idx, new_field)\n",
    "    return t.cast(new_schema)\n",
    "\n",
    "ds = ray.data.read_parquet(\"s3://dsoaws/parquet/\", _block_udf=cast)\n",
    "\n",
    "ds.groupby(\"product_category\").count().show()\n"
   ]
  },
  {
   "cell_type": "code",
   "execution_count": null,
   "id": "390b8312-fbd8-462f-9534-dd48e5173447",
   "metadata": {},
   "outputs": [],
   "source": []
  }
 ],
 "metadata": {
  "kernelspec": {
   "display_name": "Python 3 (ipykernel)",
   "language": "python",
   "name": "python3"
  },
  "language_info": {
   "codemirror_mode": {
    "name": "ipython",
    "version": 3
   },
   "file_extension": ".py",
   "mimetype": "text/x-python",
   "name": "python",
   "nbconvert_exporter": "python",
   "pygments_lexer": "ipython3",
   "version": "3.7.7"
  }
 },
 "nbformat": 4,
 "nbformat_minor": 5
}
