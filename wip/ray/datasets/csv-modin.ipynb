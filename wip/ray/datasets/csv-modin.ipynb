{
 "cells": [
  {
   "cell_type": "code",
   "execution_count": null,
   "id": "8af5f3f5-919d-456c-ba66-710e0bbc83d9",
   "metadata": {
    "tags": []
   },
   "outputs": [],
   "source": [
    "%pip install modin s3fs"
   ]
  },
  {
   "cell_type": "code",
   "execution_count": 2,
   "id": "3fe14f3a-67da-4c8d-a3f9-02dc7dc9c45a",
   "metadata": {
    "execution": {
     "iopub.execute_input": "2022-06-30T23:13:41.254489Z",
     "iopub.status.busy": "2022-06-30T23:13:41.254271Z",
     "iopub.status.idle": "2022-06-30T23:13:51.195197Z",
     "shell.execute_reply": "2022-06-30T23:13:51.193837Z",
     "shell.execute_reply.started": "2022-06-30T23:13:41.254466Z"
    },
    "tags": []
   },
   "outputs": [
    {
     "name": "stdout",
     "output_type": "stream",
     "text": [
      "           review_id  label_id  input_ids  review_body  date\n",
      "sentiment                                                   \n",
      "-1              1845      1845       1845         1845  1845\n",
      " 0              1846      1846       1846         1846  1846\n",
      " 1              1846      1846       1846         1846  1846\n"
     ]
    },
    {
     "name": "stderr",
     "output_type": "stream",
     "text": [
      "\u001b[2m\u001b[36m(apply_func pid=7492)\u001b[0m E0630 23:17:28.337782053    7617 chttp2_transport.cc:1103]   Received a GOAWAY with error code ENHANCE_YOUR_CALM and debug data equal to \"too_many_pings\"\n"
     ]
    }
   ],
   "source": [
    "import ray\n",
    "\n",
    "ray.shutdown()\n",
    "ray.init(address=\"ray://localhost:10001\",\n",
    "         runtime_env={\"pip\": [\"s3fs\", \"modin\"]})\n",
    "\n",
    "import modin.pandas as pd\n",
    "df = pd.read_csv(\"s3://dsoaws/ray/datasets/data/train/part-algo-1-womens_clothing_ecommerce_reviews.csv\")\n",
    "\n",
    "print(df.groupby(\"sentiment\").count())"
   ]
  },
  {
   "cell_type": "code",
   "execution_count": null,
   "id": "d6ed3495-82be-4b91-bc62-a2b9b0c63c01",
   "metadata": {},
   "outputs": [],
   "source": []
  },
  {
   "cell_type": "code",
   "execution_count": null,
   "id": "9c4459b7-8d0f-4812-ae03-3b1125e7ffed",
   "metadata": {},
   "outputs": [],
   "source": []
  }
 ],
 "metadata": {
  "kernelspec": {
   "display_name": "Python 3",
   "language": "python",
   "name": "python3"
  },
  "language_info": {
   "codemirror_mode": {
    "name": "ipython",
    "version": 3
   },
   "file_extension": ".py",
   "mimetype": "text/x-python",
   "name": "python",
   "nbconvert_exporter": "python",
   "pygments_lexer": "ipython3",
   "version": "3.7.10"
  }
 },
 "nbformat": 4,
 "nbformat_minor": 5
}
