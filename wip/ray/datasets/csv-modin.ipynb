{
 "cells": [
  {
   "cell_type": "code",
   "execution_count": 1,
   "id": "10553db7-322d-4ef0-aef3-df12dd90e0c6",
   "metadata": {},
   "outputs": [
    {
     "name": "stdout",
     "output_type": "stream",
     "text": [
      "           review_id  label_id  input_ids  review_body  date\n",
      "sentiment                                                   \n",
      "-1              1845      1845       1845         1845  1845\n",
      " 0              1846      1846       1846         1846  1846\n",
      " 1              1846      1846       1846         1846  1846\n"
     ]
    }
   ],
   "source": [
    "import modin.pandas as pd\n",
    "import ray\n",
    "\n",
    "ray.shutdown()\n",
    "ray.init(address=\"127.0.0.1:6379\")\n",
    "\n",
    "df = pd.read_csv(\"data/train/part-algo-1-womens_clothing_ecommerce_reviews.csv\", \n",
    "                 sep=',',\n",
    "                 header=0)\n",
    "\n",
    "print(df.groupby(\"sentiment\").count())\n"
   ]
  },
  {
   "cell_type": "code",
   "execution_count": null,
   "id": "f577c380-06ed-4583-8eb2-54f3ac75d168",
   "metadata": {},
   "outputs": [],
   "source": []
  }
 ],
 "metadata": {
  "kernelspec": {
   "display_name": "Python 3 (ipykernel)",
   "language": "python",
   "name": "python3"
  },
  "language_info": {
   "codemirror_mode": {
    "name": "ipython",
    "version": 3
   },
   "file_extension": ".py",
   "mimetype": "text/x-python",
   "name": "python",
   "nbconvert_exporter": "python",
   "pygments_lexer": "ipython3",
   "version": "3.9.12"
  }
 },
 "nbformat": 4,
 "nbformat_minor": 5
}
