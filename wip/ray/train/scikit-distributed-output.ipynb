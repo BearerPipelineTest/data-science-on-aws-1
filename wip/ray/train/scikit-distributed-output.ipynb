{
 "cells": [
  {
   "cell_type": "code",
   "execution_count": null,
   "id": "c5eb3fe3-3c03-4cbd-a322-acdb671e9051",
   "metadata": {
    "papermill": {
     "duration": null,
     "end_time": null,
     "exception": false,
     "start_time": "2022-05-22T19:49:02.085346",
     "status": "running"
    },
    "tags": []
   },
   "outputs": [],
   "source": [
    "import numpy as np\n",
    "from sklearn.datasets import load_digits\n",
    "from sklearn.model_selection import RandomizedSearchCV\n",
    "from sklearn.svm import SVC\n",
    "import ray\n",
    "ray.shutdown()\n",
    "\n",
    "import joblib\n",
    "from ray.util.joblib import register_ray\n",
    "\n",
    "register_ray()\n",
    "ray.init(address=\"127.0.0.1:6379\")\n",
    "\n",
    "import mlflow\n",
    "mlflow.set_tracking_uri('http://127.0.0.1:5001')\n",
    "# mlflow.autolog() #log_models=False, exclusive=True)\n",
    "import sklearn\n",
    "mlflow.sklearn.autolog()#log_models=True)\n",
    "\n",
    "digits = load_digits()\n",
    "\n",
    "param_space = {\n",
    "    'C': np.logspace(-6, 6, 30),\n",
    "    'gamma': np.logspace(-8, 8, 30),\n",
    "    'tol': np.logspace(-4, -1, 30),\n",
    "    'class_weight': [None, 'balanced'],\n",
    "}\n",
    "model = SVC(kernel='rbf')\n",
    "search = RandomizedSearchCV(model, param_space, cv=5, n_iter=50, verbose=10)\n",
    "\n",
    "with joblib.parallel_backend('ray'):\n",
    "    search.fit(digits.data, digits.target)\n"
   ]
  },
  {
   "cell_type": "code",
   "execution_count": null,
   "id": "26f49f0d-b25f-4d81-93fb-4504c4c5f235",
   "metadata": {
    "papermill": {
     "duration": null,
     "end_time": null,
     "exception": null,
     "start_time": null,
     "status": "pending"
    },
    "tags": []
   },
   "outputs": [],
   "source": []
  }
 ],
 "metadata": {
  "kernelspec": {
   "display_name": "Python 3 (ipykernel)",
   "language": "python",
   "name": "python3"
  },
  "language_info": {
   "codemirror_mode": {
    "name": "ipython",
    "version": 3
   },
   "file_extension": ".py",
   "mimetype": "text/x-python",
   "name": "python",
   "nbconvert_exporter": "python",
   "pygments_lexer": "ipython3",
   "version": "3.9.12"
  },
  "papermill": {
   "default_parameters": {},
   "duration": null,
   "end_time": null,
   "environment_variables": {},
   "exception": null,
   "input_path": "/Users/cfregly/oreilly_book.main/wip/ray/train/scikit-distributed.ipynb",
   "output_path": "/Users/cfregly/oreilly_book.main/wip/ray/train/scikit-distributed-output.ipynb",
   "parameters": {},
   "start_time": "2022-05-22T19:49:00.681088",
   "version": "2.3.4"
  }
 },
 "nbformat": 4,
 "nbformat_minor": 5
}